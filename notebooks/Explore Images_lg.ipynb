{
 "cells": [
  {
   "cell_type": "markdown",
   "metadata": {},
   "source": [
    "This notebook assumes you have already followed the steps in `README.md`. If not, do that first!"
   ]
  },
  {
   "cell_type": "code",
   "execution_count": 1,
   "metadata": {},
   "outputs": [],
   "source": [
    "import os\n",
    "import matplotlib.pyplot as plt\n",
    "import numpy as np\n",
    "import tensorflow.compat.v1 as tf\n",
    "import argparse\n",
    "import math\n",
    "import numpy as np\n",
    "import os"
   ]
  },
  {
   "cell_type": "code",
   "execution_count": 2,
   "metadata": {},
   "outputs": [],
   "source": [
    "tf.enable_eager_execution()"
   ]
  },
  {
   "cell_type": "code",
   "execution_count": 3,
   "metadata": {},
   "outputs": [
    {
     "name": "stdout",
     "output_type": "stream",
     "text": [
      "WARNING:tensorflow:From <ipython-input-3-6e73bfd1de6c>:8: DatasetV1.make_one_shot_iterator (from tensorflow.python.data.ops.dataset_ops) is deprecated and will be removed in a future version.\n",
      "Instructions for updating:\n",
      "This is a deprecated API that should only be used in TF 1 graph mode and legacy TF 2 graph mode available through `tf.compat.v1`. In all other situations -- namely, eager mode and inside `tf.function` -- you can consume dataset elements using `for elem in dataset: ...` or by explicitly creating iterator via `iterator = iter(dataset)` and fetching its elements via `values = next(iterator)`. Furthermore, this API is not available in TF 2. During the transition from TF 1 to TF 2 you can use `tf.compat.v1.data.make_one_shot_iterator(dataset)` to create a TF 1 graph mode style iterator for a dataset created through TF 2 APIs. Note that this should be a transient state of your code base as there are in general no guarantees about the interoperability of TF 1 and TF 2 code.\n"
     ]
    }
   ],
   "source": [
    "dirlist = lambda di: [os.path.join(di, file) for file in os.listdir(di) if 'part-' in file]\n",
    "training_files = dirlist('data/val/')\n",
    "\n",
    "def parse_visual(data):\n",
    "    dataset = tf.data.TFRecordDataset(data)\n",
    "    # pattern for one part file\n",
    "    # dataset = tf.data.TFRecordDataset('part-r-00099')\n",
    "    iterator = dataset.make_one_shot_iterator()\n",
    "\n",
    "    features = {\n",
    "        'B2': tf.FixedLenFeature([], tf.string),\n",
    "        'B3': tf.FixedLenFeature([], tf.string),\n",
    "        'B4': tf.FixedLenFeature([], tf.string),\n",
    "        'label': tf.FixedLenFeature([], tf.int64),\n",
    "    }\n",
    "\n",
    "    parsed_examples = [tf.parse_single_example(data, features) for data in iterator]\n",
    "    return parsed_examples\n",
    "\n",
    "parsed_examples = parse_visual(training_files[0])"
   ]
  },
  {
   "cell_type": "code",
   "execution_count": 4,
   "metadata": {},
   "outputs": [],
   "source": [
    "def get_img_from_example(parsed_example, intensify=True):\n",
    "    rgbArray = np.zeros((65,65,3), 'uint8')\n",
    "    for i, band in enumerate(['B4', 'B3', 'B2']):\n",
    "        band_data = np.frombuffer(parsed_example[band].numpy(), dtype=np.uint8)\n",
    "        band_data = band_data.reshape(65, 65)\n",
    "        if intensify:\n",
    "            band_data = band_data/np.max(band_data)*255\n",
    "        else:\n",
    "            band_data = band_data*255\n",
    "        rgbArray[..., i] = band_data\n",
    "        \n",
    "    label = tf.cast(parsed_example['label'], tf.int32).numpy()\n",
    "        \n",
    "    return rgbArray, label"
   ]
  },
  {
   "cell_type": "code",
   "execution_count": 5,
   "metadata": {},
   "outputs": [
    {
     "name": "stdout",
     "output_type": "stream",
     "text": [
      "[[[243 244 243]\n",
      "  [243 243 243]\n",
      "  [243 244 243]\n",
      "  ...\n",
      "  [244 244 245]\n",
      "  [244 244 245]\n",
      "  [244 244 245]]\n",
      "\n",
      " [[243 244 245]\n",
      "  [243 244 243]\n",
      "  [243 244 243]\n",
      "  ...\n",
      "  [244 244 245]\n",
      "  [244 244 245]\n",
      "  [244 246 246]]\n",
      "\n",
      " [[244 244 245]\n",
      "  [244 244 245]\n",
      "  [244 244 245]\n",
      "  ...\n",
      "  [244 246 245]\n",
      "  [244 246 246]\n",
      "  [244 246 246]]\n",
      "\n",
      " ...\n",
      "\n",
      " [[252 253 252]\n",
      "  [252 253 252]\n",
      "  [252 253 252]\n",
      "  ...\n",
      "  [253 253 252]\n",
      "  [252 252 252]\n",
      "  [252 252 252]]\n",
      "\n",
      " [[253 253 252]\n",
      "  [252 253 252]\n",
      "  [252 253 252]\n",
      "  ...\n",
      "  [252 253 252]\n",
      "  [252 253 252]\n",
      "  [252 252 252]]\n",
      "\n",
      " [[252 253 252]\n",
      "  [252 253 252]\n",
      "  [253 253 252]\n",
      "  ...\n",
      "  [252 252 252]\n",
      "  [252 253 252]\n",
      "  [252 252 252]]]\n",
      "2.8400864917552724\n"
     ]
    },
    {
     "data": {
      "image/png": "[encoded data removed]",
      "text/plain": [
       "<Figure size 432x288 with 1 Axes>"
      ]
     },
     "metadata": {
      "needs_background": "light"
     },
     "output_type": "display_data"
    }
   ],
   "source": [
    "img, label = get_img_from_example(parsed_examples[13])\n",
    "print(img)\n",
    "plt.imshow(img)\n",
    "print(img.std())"
   ]
  },
  {
   "cell_type": "code",
   "execution_count": 6,
   "metadata": {},
   "outputs": [
    {
     "data": {
      "text/plain": [
       "2.8400864917552724"
      ]
     },
     "execution_count": 6,
     "metadata": {},
     "output_type": "execute_result"
    }
   ],
   "source": [
    "img.std()"
   ]
  },
  {
   "cell_type": "code",
   "execution_count": 7,
   "metadata": {},
   "outputs": [
    {
     "data": {
      "text/plain": [
       "<matplotlib.image.AxesImage at 0x7ffb4164c0a0>"
      ]
     },
     "execution_count": 7,
     "metadata": {},
     "output_type": "execute_result"
    },
    {
     "data": {
      "image/png": "[encoded data removed]",
      "text/plain": [
       "<Figure size 432x288 with 1 Axes>"
      ]
     },
     "metadata": {
      "needs_background": "light"
     },
     "output_type": "display_data"
    }
   ],
   "source": [
    "parsed_examples[16]\n",
    "img, label = get_img_from_example(parsed_examples[16])\n",
    "plt.imshow(img)"
   ]
  },
  {
   "cell_type": "code",
   "execution_count": 8,
   "metadata": {},
   "outputs": [
    {
     "data": {
      "text/plain": [
       "26.048751380743994"
      ]
     },
     "execution_count": 8,
     "metadata": {},
     "output_type": "execute_result"
    }
   ],
   "source": [
    "img.std()"
   ]
  },
  {
   "cell_type": "code",
   "execution_count": 9,
   "metadata": {
    "scrolled": true
   },
   "outputs": [
    {
     "data": {
      "image/png": "[encoded data removed]",
      "text/plain": [
       "<Figure size 1600x2400 with 1 Axes>"
      ]
     },
     "metadata": {},
     "output_type": "display_data"
    }
   ],
   "source": [
    "fig=plt.figure(figsize=(20, 30), dpi= 80, facecolor='w', edgecolor='k')\n",
    "for i in range(12,13):\n",
    "    plt.subplot(5, 5, i)\n",
    "    img, label = get_img_from_example(parsed_examples[i])\n",
    "    plt.imshow(img).axes.get_xaxis().set_visible(False)\n",
    "    plt.imshow(img).axes.get_yaxis().set_visible(False)\n",
    "    plt.title(str(label))\n",
    "\n",
    "fig.show()"
   ]
  },
  {
   "cell_type": "code",
   "execution_count": 10,
   "metadata": {},
   "outputs": [],
   "source": [
    "dirlist = lambda di: [os.path.join(di, file) for file in os.listdir(di) if 'part-' in file]\n",
    "training_files = dirlist('data/val/')\n",
    "\n",
    "def parse_visual(data):\n",
    "    dataset = tf.data.TFRecordDataset(data)\n",
    "    # pattern for one part file\n",
    "    # dataset = tf.data.TFRecordDataset('part-r-00099')\n",
    "    iterator = tf.compat.v1.data.make_one_shot_iterator(dataset)\n",
    "\n",
    "    features = {\n",
    "        'B2': tf.io.FixedLenFeature([], tf.string),\n",
    "        'B3': tf.io.FixedLenFeature([], tf.string),\n",
    "        'B4': tf.io.FixedLenFeature([], tf.string),\n",
    "        'label': tf.io.FixedLenFeature([], tf.int64),\n",
    "    }\n",
    "\n",
    "    parsed_examples = [tf.io.parse_single_example(data, features) for data in iterator]\n",
    "    return parsed_examples\n",
    "\n",
    "parsed_examples = parse_visual(training_files[0])"
   ]
  },
  {
   "cell_type": "code",
   "execution_count": 11,
   "metadata": {},
   "outputs": [],
   "source": [
    "def get_img_from_example(parsed_example, intensify=True):\n",
    "    rgbArray = np.zeros((65,65,3), 'uint8')\n",
    "    for i, band in enumerate(['B4', 'B3', 'B2']):\n",
    "        band_data = np.frombuffer(parsed_example[band].numpy(), dtype=np.uint8)\n",
    "        band_data = band_data.reshape(65, 65)\n",
    "        if intensify:\n",
    "            band_data = band_data/np.max(band_data)*255\n",
    "        else:\n",
    "            band_data = band_data*255\n",
    "        rgbArray[..., i] = band_data\n",
    "        \n",
    "    label = tf.cast(parsed_example['label'], tf.int32).numpy()\n",
    "        \n",
    "    return rgbArray, label"
   ]
  },
  {
   "cell_type": "code",
   "execution_count": null,
   "metadata": {},
   "outputs": [],
   "source": [
    "fig=plt.figure(figsize=(20, 30), dpi= 80, facecolor='w', edgecolor='k')\n",
    "for i in range(1,26):\n",
    "    plt.subplot(5, 5, i)\n",
    "    img, label = get_img_from_example(parsed_examples[i])\n",
    "    plt.imshow(img).axes.get_xaxis().set_visible(False)\n",
    "    plt.imshow(img).axes.get_yaxis().set_visible(False)\n",
    "    plt.title(str(label))\n",
    "\n",
    "fig.show()"
   ]
  },
  {
   "cell_type": "code",
   "execution_count": 13,
   "metadata": {},
   "outputs": [],
   "source": [
    "def file_list_from_folder(folder, data_path):\n",
    "  folderpath = os.path.join(data_path, folder)\n",
    "  filelist = []\n",
    "  for filename in os.listdir(folderpath):\n",
    "    if filename.startswith('part-') and not filename.endswith('gstmp'):\n",
    "      filelist.append(os.path.join(folderpath, filename))\n",
    "  return filelist"
   ]
  },
  {
   "cell_type": "code",
   "execution_count": 14,
   "metadata": {},
   "outputs": [],
   "source": [
    "train = file_list_from_folder(\"train\", \"data/\")\n",
    "val = file_list_from_folder(\"val\", 'data/')"
   ]
  },
  {
   "cell_type": "code",
   "execution_count": 15,
   "metadata": {},
   "outputs": [],
   "source": [
    "features = {\n",
    "  'B1': tf.io.FixedLenFeature([], tf.string),\n",
    "  'B2': tf.io.FixedLenFeature([], tf.string),\n",
    "  'B3': tf.io.FixedLenFeature([], tf.string),\n",
    "  'B4': tf.io.FixedLenFeature([], tf.string),\n",
    "  'B5': tf.io.FixedLenFeature([], tf.string),\n",
    "  'B6': tf.io.FixedLenFeature([], tf.string),\n",
    "  'B7': tf.io.FixedLenFeature([], tf.string),\n",
    "  'B8': tf.io.FixedLenFeature([], tf.string),\n",
    "  'B9': tf.io.FixedLenFeature([], tf.string),\n",
    "  'B10': tf.io.FixedLenFeature([], tf.string),\n",
    "  'B11': tf.io.FixedLenFeature([], tf.string),\n",
    "  'label': tf.io.FixedLenFeature([], tf.int64),\n",
    "}     "
   ]
  },
  {
   "cell_type": "code",
   "execution_count": 16,
   "metadata": {},
   "outputs": [],
   "source": [
    "def parse_tfrecords(filelist, batch_size, buffer_size, include_viz=False):\n",
    "  # try a subset of possible bands\n",
    "  def _parse_(serialized_example, keylist=['B2', 'B3', 'B4', 'B5', 'B6', 'B7', 'B8']):\n",
    "    example = tf.io.parse_single_example(serialized_example, features)\n",
    "    \n",
    "    def getband(example_key):\n",
    "      img = tf.io.decode_raw(example_key, tf.uint8)\n",
    "      return tf.reshape(img[:IMG_DIM**2], shape=(IMG_DIM, IMG_DIM, 1))\n",
    "    \n",
    "    bandlist = [getband(example[key]) for key in keylist]\n",
    "    # combine bands into tensor\n",
    "    image = tf.concat(bandlist, -1)\n",
    "\n",
    "    # one-hot encode ground truth labels \n",
    "    label = tf.cast(example['label'], tf.int32)\n",
    "    label = tf.one_hot(label, NUM_CLASSES)\n",
    "   \n",
    "    # if logging RGB images as examples, generate RGB image from 11-channel satellite image\n",
    "    if include_viz:\n",
    "      image = get_img_from_example(example)\n",
    "      return {'image' : image, 'label': example['label']}, label\n",
    "    return {'image': image}, label\n",
    "    \n",
    "  tfrecord_dataset = tf.data.TFRecordDataset(filelist) \n",
    "  tfrecord_dataset = tfrecord_dataset.map(lambda x:_parse_(x)).shuffle(buffer_size).repeat(-1).batch(batch_size)\n",
    "  tfrecord_iterator = tfrecord_dataset.make_one_shot_iterator()\n",
    "  image, label = tfrecord_iterator.get_next()\n",
    "  return image, label"
   ]
  },
  {
   "cell_type": "code",
   "execution_count": 17,
   "metadata": {},
   "outputs": [],
   "source": [
    "NUM_TRAIN = 16000\n",
    "NUM_VAL = 3200\n",
    "IMG_DIM = 65\n",
    "NUM_CLASSES = 4\n",
    "TOTAL_TRAIN = 40000\n",
    "TOTAL_VAL = 10778\n",
    "TOTAL_TRAIN2 = 86317\n",
    "TOTAL_VAL2 = 10778"
   ]
  },
  {
   "cell_type": "code",
   "execution_count": 18,
   "metadata": {},
   "outputs": [],
   "source": [
    "def load_data(data_path):\n",
    "  train = file_list_from_folder(\"train\", data_path)\n",
    "  val = file_list_from_folder(\"val\", data_path)\n",
    "  return train, val"
   ]
  },
  {
   "cell_type": "code",
   "execution_count": 19,
   "metadata": {},
   "outputs": [],
   "source": [
    "train_tfrecords, val_tfrecords = load_data(\"data/\")"
   ]
  },
  {
   "cell_type": "code",
   "execution_count": 20,
   "metadata": {},
   "outputs": [],
   "source": [
    "train_images, train_labels = parse_tfrecords(train_tfrecords, TOTAL_TRAIN, TOTAL_TRAIN)\n",
    "val_images, val_labels = parse_tfrecords(val_tfrecords, TOTAL_VAL, TOTAL_VAL)\n",
    "  "
   ]
  },
  {
   "cell_type": "code",
   "execution_count": 21,
   "metadata": {},
   "outputs": [],
   "source": [
    "def initialize_model4():\n",
    "    from tensorflow.keras import layers, initializers\n",
    "    model = tf.keras.Sequential()\n",
    "    model.add(tf.keras.layers.InputLayer(input_shape=(65, 65, 7), name='image'))\n",
    "    model.add(layers.Conv2D(32, kernel_size=(2, 2), activation='relu'))\n",
    "    model.add(layers.MaxPooling2D(pool_size=(2, 2)))\n",
    "    model.add(layers.Conv2D(64, kernel_size=(2, 2), activation='relu'))\n",
    "    model.add(layers.Conv2D(64, kernel_size=(2, 2), activation='relu'))\n",
    "    model.add(layers.MaxPooling2D(pool_size=(2, 2)))\n",
    "    model.add(layers.Dropout(0.2))\n",
    "    model.add(layers.Conv2D(filters=128, kernel_size=(2, 2), activation='relu'))\n",
    "    model.add(layers.Conv2D(filters=128, kernel_size=(2, 2), activation='relu'))\n",
    "    model.add(layers.MaxPooling2D(pool_size=(2, 2)))\n",
    "    model.add(layers.Dropout(0.2))\n",
    "    model.add(layers.Flatten())\n",
    "    model.add(layers.Dense(64, activation='relu'))\n",
    "    model.add(layers.Dense(64, activation='relu'))\n",
    "    model.add(layers.Dense(4, activation='softmax'))\n",
    "    # set up optimizer\n",
    "    model.compile(loss=tf.keras.losses.categorical_crossentropy,\n",
    "              optimizer='adam',\n",
    "              metrics=['accuracy'])\n",
    "    return model"
   ]
  },
  {
   "cell_type": "code",
   "execution_count": 22,
   "metadata": {},
   "outputs": [],
   "source": [
    "from tensorflow.keras import optimizers\n",
    "\n",
    "def compile_model(model):\n",
    "    model.compile(loss='categorical_crossentropy',\n",
    "                  optimizer='adam',\n",
    "                  metrics=['accuracy'])\n",
    "    return model"
   ]
  },
  {
   "cell_type": "code",
   "execution_count": 23,
   "metadata": {},
   "outputs": [],
   "source": [
    "def plot_history(history, title='', axs=None, exp_name=\"\"):\n",
    "    if axs is not None:\n",
    "        ax1, ax2 = axs\n",
    "    else:\n",
    "        f, (ax1, ax2) = plt.subplots(1, 2, figsize=(12, 4))\n",
    "    \n",
    "    if len(exp_name) > 0 and exp_name[0] != '_':\n",
    "        exp_name = '_' + exp_name\n",
    "    ax1.plot(history.history['loss'], label='train' + exp_name)\n",
    "    ax1.plot(history.history['val_loss'], label='val' + exp_name)\n",
    "    ax1.set_ylim(0., 2.2)\n",
    "    ax1.set_title('loss')\n",
    "    ax1.legend()\n",
    "\n",
    "    ax2.plot(history.history['accuracy'], label='train accuracy'  + exp_name)\n",
    "    ax2.plot(history.history['val_accuracy'], label='val accuracy'  + exp_name)\n",
    "    ax2.set_ylim(0.25, 1.)\n",
    "    ax2.set_title('Accuracy')\n",
    "    ax2.legend()\n",
    "    return (ax1, ax2)\n"
   ]
  },
  {
   "cell_type": "markdown",
   "metadata": {},
   "source": [
    "# Data augmentation\n",
    "To easily improve the accuracy of a model without much work, we can generate new data: the data augmentation. This widely used technique consists in applying little transformation to input images without changing its label, as mirroring, cropping, intensity changes, etc. The improved performance simply results from the Neural network training with more different data.\n",
    "\n",
    "The natural way to generate these new images is to apply some transformations and train the model on the original and new images. However, such procedure requires to keep all these images in memory : it can be very intensive, to the point that your computer memory cannot hold any new image (your computer might even crash).\n",
    "\n",
    "For this reason, we will augment the data on the fly, meaning that we will create new data, use them to fit the model, then delete them. Here, Keras is our friend as it provides the utils to do all this job for us. Look at the following code : the general writing can seem odd but don't be panicked: just look at the function arguments that defines the augmentation techniques that we will use and that you can check in the documentation."
   ]
  },
  {
   "cell_type": "code",
   "execution_count": 24,
   "metadata": {},
   "outputs": [],
   "source": [
    "# The data generator\n",
    "X_tr = train_images[\"image\"][:30000]\n",
    "y_tr = train_labels[:30000]\n",
    "X_val = train_images[\"image\"][30000:]\n",
    "y_val = train_labels[30000:]\n",
    "\n",
    "\n"
   ]
  },
  {
   "cell_type": "code",
   "execution_count": null,
   "metadata": {},
   "outputs": [],
   "source": []
  },
  {
   "cell_type": "code",
   "execution_count": 25,
   "metadata": {},
   "outputs": [],
   "source": [
    "indices = np.where([i[i.std() >= 10].all() for i in X_tr.numpy()])\n",
    "X_tr, y_tr = X_tr.numpy(), y_tr.numpy()\n",
    "X_tr, y_tr = X_tr[indices], y_tr[indices]"
   ]
  },
  {
   "cell_type": "code",
   "execution_count": 26,
   "metadata": {},
   "outputs": [],
   "source": [
    "indices = np.where([i[i.std() >= 10].all() for i in X_val.numpy()])\n",
    "X_val, y_val = X_val.numpy(), y_val.numpy()\n",
    "X_val, y_val = X_val[indices], y_val[indices]"
   ]
  },
  {
   "cell_type": "code",
   "execution_count": 27,
   "metadata": {},
   "outputs": [],
   "source": [
    "# from tensorflow.keras.preprocessing.image import ImageDataGenerator\n",
    "\n",
    "# datagen = ImageDataGenerator(\n",
    "#     featurewise_center=False,\n",
    "#     featurewise_std_normalization=False,\n",
    "#     rotation_range=10,\n",
    "#     width_shift_range=0.2,\n",
    "#     height_shift_range=0.2,\n",
    "#     horizontal_flip=True,\n",
    "#     zoom_range=(0.8, 1.2),) \n",
    "\n",
    "# datagen.fit(train_images[\"image\"])"
   ]
  },
  {
   "cell_type": "code",
   "execution_count": 28,
   "metadata": {},
   "outputs": [
    {
     "name": "stdout",
     "output_type": "stream",
     "text": [
      "Epoch 1/1000\n",
      "503/936 [===============>..............] - ETA: 50s - loss: 1.0455 - accuracy: 0.6103"
     ]
    },
    {
     "ename": "KeyboardInterrupt",
     "evalue": "",
     "output_type": "error",
     "traceback": [
      "\u001b[0;31m---------------------------------------------------------------------------\u001b[0m",
      "\u001b[0;31mKeyboardInterrupt\u001b[0m                         Traceback (most recent call last)",
      "\u001b[0;32m<ipython-input-28-70f1e32cbc40>\u001b[0m in \u001b[0;36m<module>\u001b[0;34m\u001b[0m\n\u001b[1;32m     12\u001b[0m \u001b[0;31m#                         callbacks=[es],\u001b[0m\u001b[0;34m\u001b[0m\u001b[0;34m\u001b[0m\u001b[0;34m\u001b[0m\u001b[0m\n\u001b[1;32m     13\u001b[0m \u001b[0;31m#                         validation_data=(X_val, y_val), batch_size = 32)\u001b[0m\u001b[0;34m\u001b[0m\u001b[0;34m\u001b[0m\u001b[0;34m\u001b[0m\u001b[0m\n\u001b[0;32m---> 14\u001b[0;31m history_2 = model.fit(X_tr,y_tr, \n\u001b[0m\u001b[1;32m     15\u001b[0m                         \u001b[0mepochs\u001b[0m\u001b[0;34m=\u001b[0m\u001b[0;36m1000\u001b[0m\u001b[0;34m,\u001b[0m\u001b[0;34m\u001b[0m\u001b[0;34m\u001b[0m\u001b[0m\n\u001b[1;32m     16\u001b[0m                         \u001b[0mcallbacks\u001b[0m\u001b[0;34m=\u001b[0m\u001b[0;34m[\u001b[0m\u001b[0mes\u001b[0m\u001b[0;34m]\u001b[0m\u001b[0;34m,\u001b[0m\u001b[0;34m\u001b[0m\u001b[0;34m\u001b[0m\u001b[0m\n",
      "\u001b[0;32m~/.pyenv/versions/lewagon/lib/python3.8/site-packages/tensorflow/python/keras/engine/training.py\u001b[0m in \u001b[0;36m_method_wrapper\u001b[0;34m(self, *args, **kwargs)\u001b[0m\n\u001b[1;32m    106\u001b[0m   \u001b[0;32mdef\u001b[0m \u001b[0m_method_wrapper\u001b[0m\u001b[0;34m(\u001b[0m\u001b[0mself\u001b[0m\u001b[0;34m,\u001b[0m \u001b[0;34m*\u001b[0m\u001b[0margs\u001b[0m\u001b[0;34m,\u001b[0m \u001b[0;34m**\u001b[0m\u001b[0mkwargs\u001b[0m\u001b[0;34m)\u001b[0m\u001b[0;34m:\u001b[0m\u001b[0;34m\u001b[0m\u001b[0;34m\u001b[0m\u001b[0m\n\u001b[1;32m    107\u001b[0m     \u001b[0;32mif\u001b[0m \u001b[0;32mnot\u001b[0m \u001b[0mself\u001b[0m\u001b[0;34m.\u001b[0m\u001b[0m_in_multi_worker_mode\u001b[0m\u001b[0;34m(\u001b[0m\u001b[0;34m)\u001b[0m\u001b[0;34m:\u001b[0m  \u001b[0;31m# pylint: disable=protected-access\u001b[0m\u001b[0;34m\u001b[0m\u001b[0;34m\u001b[0m\u001b[0m\n\u001b[0;32m--> 108\u001b[0;31m       \u001b[0;32mreturn\u001b[0m \u001b[0mmethod\u001b[0m\u001b[0;34m(\u001b[0m\u001b[0mself\u001b[0m\u001b[0;34m,\u001b[0m \u001b[0;34m*\u001b[0m\u001b[0margs\u001b[0m\u001b[0;34m,\u001b[0m \u001b[0;34m**\u001b[0m\u001b[0mkwargs\u001b[0m\u001b[0;34m)\u001b[0m\u001b[0;34m\u001b[0m\u001b[0;34m\u001b[0m\u001b[0m\n\u001b[0m\u001b[1;32m    109\u001b[0m \u001b[0;34m\u001b[0m\u001b[0m\n\u001b[1;32m    110\u001b[0m     \u001b[0;31m# Running inside `run_distribute_coordinator` already.\u001b[0m\u001b[0;34m\u001b[0m\u001b[0;34m\u001b[0m\u001b[0;34m\u001b[0m\u001b[0m\n",
      "\u001b[0;32m~/.pyenv/versions/lewagon/lib/python3.8/site-packages/tensorflow/python/keras/engine/training.py\u001b[0m in \u001b[0;36mfit\u001b[0;34m(self, x, y, batch_size, epochs, verbose, callbacks, validation_split, validation_data, shuffle, class_weight, sample_weight, initial_epoch, steps_per_epoch, validation_steps, validation_batch_size, validation_freq, max_queue_size, workers, use_multiprocessing)\u001b[0m\n\u001b[1;32m   1096\u001b[0m                 batch_size=batch_size):\n\u001b[1;32m   1097\u001b[0m               \u001b[0mcallbacks\u001b[0m\u001b[0;34m.\u001b[0m\u001b[0mon_train_batch_begin\u001b[0m\u001b[0;34m(\u001b[0m\u001b[0mstep\u001b[0m\u001b[0;34m)\u001b[0m\u001b[0;34m\u001b[0m\u001b[0;34m\u001b[0m\u001b[0m\n\u001b[0;32m-> 1098\u001b[0;31m               \u001b[0mtmp_logs\u001b[0m \u001b[0;34m=\u001b[0m \u001b[0mtrain_function\u001b[0m\u001b[0;34m(\u001b[0m\u001b[0miterator\u001b[0m\u001b[0;34m)\u001b[0m\u001b[0;34m\u001b[0m\u001b[0;34m\u001b[0m\u001b[0m\n\u001b[0m\u001b[1;32m   1099\u001b[0m               \u001b[0;32mif\u001b[0m \u001b[0mdata_handler\u001b[0m\u001b[0;34m.\u001b[0m\u001b[0mshould_sync\u001b[0m\u001b[0;34m:\u001b[0m\u001b[0;34m\u001b[0m\u001b[0;34m\u001b[0m\u001b[0m\n\u001b[1;32m   1100\u001b[0m                 \u001b[0mcontext\u001b[0m\u001b[0;34m.\u001b[0m\u001b[0masync_wait\u001b[0m\u001b[0;34m(\u001b[0m\u001b[0;34m)\u001b[0m\u001b[0;34m\u001b[0m\u001b[0;34m\u001b[0m\u001b[0m\n",
      "\u001b[0;32m~/.pyenv/versions/lewagon/lib/python3.8/site-packages/tensorflow/python/eager/def_function.py\u001b[0m in \u001b[0;36m__call__\u001b[0;34m(self, *args, **kwds)\u001b[0m\n\u001b[1;32m    778\u001b[0m       \u001b[0;32melse\u001b[0m\u001b[0;34m:\u001b[0m\u001b[0;34m\u001b[0m\u001b[0;34m\u001b[0m\u001b[0m\n\u001b[1;32m    779\u001b[0m         \u001b[0mcompiler\u001b[0m \u001b[0;34m=\u001b[0m \u001b[0;34m\"nonXla\"\u001b[0m\u001b[0;34m\u001b[0m\u001b[0;34m\u001b[0m\u001b[0m\n\u001b[0;32m--> 780\u001b[0;31m         \u001b[0mresult\u001b[0m \u001b[0;34m=\u001b[0m \u001b[0mself\u001b[0m\u001b[0;34m.\u001b[0m\u001b[0m_call\u001b[0m\u001b[0;34m(\u001b[0m\u001b[0;34m*\u001b[0m\u001b[0margs\u001b[0m\u001b[0;34m,\u001b[0m \u001b[0;34m**\u001b[0m\u001b[0mkwds\u001b[0m\u001b[0;34m)\u001b[0m\u001b[0;34m\u001b[0m\u001b[0;34m\u001b[0m\u001b[0m\n\u001b[0m\u001b[1;32m    781\u001b[0m \u001b[0;34m\u001b[0m\u001b[0m\n\u001b[1;32m    782\u001b[0m       \u001b[0mnew_tracing_count\u001b[0m \u001b[0;34m=\u001b[0m \u001b[0mself\u001b[0m\u001b[0;34m.\u001b[0m\u001b[0m_get_tracing_count\u001b[0m\u001b[0;34m(\u001b[0m\u001b[0;34m)\u001b[0m\u001b[0;34m\u001b[0m\u001b[0;34m\u001b[0m\u001b[0m\n",
      "\u001b[0;32m~/.pyenv/versions/lewagon/lib/python3.8/site-packages/tensorflow/python/eager/def_function.py\u001b[0m in \u001b[0;36m_call\u001b[0;34m(self, *args, **kwds)\u001b[0m\n\u001b[1;32m    805\u001b[0m       \u001b[0;31m# In this case we have created variables on the first call, so we run the\u001b[0m\u001b[0;34m\u001b[0m\u001b[0;34m\u001b[0m\u001b[0;34m\u001b[0m\u001b[0m\n\u001b[1;32m    806\u001b[0m       \u001b[0;31m# defunned version which is guaranteed to never create variables.\u001b[0m\u001b[0;34m\u001b[0m\u001b[0;34m\u001b[0m\u001b[0;34m\u001b[0m\u001b[0m\n\u001b[0;32m--> 807\u001b[0;31m       \u001b[0;32mreturn\u001b[0m \u001b[0mself\u001b[0m\u001b[0;34m.\u001b[0m\u001b[0m_stateless_fn\u001b[0m\u001b[0;34m(\u001b[0m\u001b[0;34m*\u001b[0m\u001b[0margs\u001b[0m\u001b[0;34m,\u001b[0m \u001b[0;34m**\u001b[0m\u001b[0mkwds\u001b[0m\u001b[0;34m)\u001b[0m  \u001b[0;31m# pylint: disable=not-callable\u001b[0m\u001b[0;34m\u001b[0m\u001b[0;34m\u001b[0m\u001b[0m\n\u001b[0m\u001b[1;32m    808\u001b[0m     \u001b[0;32melif\u001b[0m \u001b[0mself\u001b[0m\u001b[0;34m.\u001b[0m\u001b[0m_stateful_fn\u001b[0m \u001b[0;32mis\u001b[0m \u001b[0;32mnot\u001b[0m \u001b[0;32mNone\u001b[0m\u001b[0;34m:\u001b[0m\u001b[0;34m\u001b[0m\u001b[0;34m\u001b[0m\u001b[0m\n\u001b[1;32m    809\u001b[0m       \u001b[0;31m# Release the lock early so that multiple threads can perform the call\u001b[0m\u001b[0;34m\u001b[0m\u001b[0;34m\u001b[0m\u001b[0;34m\u001b[0m\u001b[0m\n",
      "\u001b[0;32m~/.pyenv/versions/lewagon/lib/python3.8/site-packages/tensorflow/python/eager/function.py\u001b[0m in \u001b[0;36m__call__\u001b[0;34m(self, *args, **kwargs)\u001b[0m\n\u001b[1;32m   2827\u001b[0m     \u001b[0;32mwith\u001b[0m \u001b[0mself\u001b[0m\u001b[0;34m.\u001b[0m\u001b[0m_lock\u001b[0m\u001b[0;34m:\u001b[0m\u001b[0;34m\u001b[0m\u001b[0;34m\u001b[0m\u001b[0m\n\u001b[1;32m   2828\u001b[0m       \u001b[0mgraph_function\u001b[0m\u001b[0;34m,\u001b[0m \u001b[0margs\u001b[0m\u001b[0;34m,\u001b[0m \u001b[0mkwargs\u001b[0m \u001b[0;34m=\u001b[0m \u001b[0mself\u001b[0m\u001b[0;34m.\u001b[0m\u001b[0m_maybe_define_function\u001b[0m\u001b[0;34m(\u001b[0m\u001b[0margs\u001b[0m\u001b[0;34m,\u001b[0m \u001b[0mkwargs\u001b[0m\u001b[0;34m)\u001b[0m\u001b[0;34m\u001b[0m\u001b[0;34m\u001b[0m\u001b[0m\n\u001b[0;32m-> 2829\u001b[0;31m     \u001b[0;32mreturn\u001b[0m \u001b[0mgraph_function\u001b[0m\u001b[0;34m.\u001b[0m\u001b[0m_filtered_call\u001b[0m\u001b[0;34m(\u001b[0m\u001b[0margs\u001b[0m\u001b[0;34m,\u001b[0m \u001b[0mkwargs\u001b[0m\u001b[0;34m)\u001b[0m  \u001b[0;31m# pylint: disable=protected-access\u001b[0m\u001b[0;34m\u001b[0m\u001b[0;34m\u001b[0m\u001b[0m\n\u001b[0m\u001b[1;32m   2830\u001b[0m \u001b[0;34m\u001b[0m\u001b[0m\n\u001b[1;32m   2831\u001b[0m   \u001b[0;34m@\u001b[0m\u001b[0mproperty\u001b[0m\u001b[0;34m\u001b[0m\u001b[0;34m\u001b[0m\u001b[0m\n",
      "\u001b[0;32m~/.pyenv/versions/lewagon/lib/python3.8/site-packages/tensorflow/python/eager/function.py\u001b[0m in \u001b[0;36m_filtered_call\u001b[0;34m(self, args, kwargs, cancellation_manager)\u001b[0m\n\u001b[1;32m   1841\u001b[0m       \u001b[0;31m`\u001b[0m\u001b[0margs\u001b[0m\u001b[0;31m`\u001b[0m \u001b[0;32mand\u001b[0m\u001b[0;31m \u001b[0m\u001b[0;31m`\u001b[0m\u001b[0mkwargs\u001b[0m\u001b[0;31m`\u001b[0m\u001b[0;34m.\u001b[0m\u001b[0;34m\u001b[0m\u001b[0;34m\u001b[0m\u001b[0m\n\u001b[1;32m   1842\u001b[0m     \"\"\"\n\u001b[0;32m-> 1843\u001b[0;31m     return self._call_flat(\n\u001b[0m\u001b[1;32m   1844\u001b[0m         [t for t in nest.flatten((args, kwargs), expand_composites=True)\n\u001b[1;32m   1845\u001b[0m          if isinstance(t, (ops.Tensor,\n",
      "\u001b[0;32m~/.pyenv/versions/lewagon/lib/python3.8/site-packages/tensorflow/python/eager/function.py\u001b[0m in \u001b[0;36m_call_flat\u001b[0;34m(self, args, captured_inputs, cancellation_manager)\u001b[0m\n\u001b[1;32m   1921\u001b[0m         and executing_eagerly):\n\u001b[1;32m   1922\u001b[0m       \u001b[0;31m# No tape is watching; skip to running the function.\u001b[0m\u001b[0;34m\u001b[0m\u001b[0;34m\u001b[0m\u001b[0;34m\u001b[0m\u001b[0m\n\u001b[0;32m-> 1923\u001b[0;31m       return self._build_call_outputs(self._inference_function.call(\n\u001b[0m\u001b[1;32m   1924\u001b[0m           ctx, args, cancellation_manager=cancellation_manager))\n\u001b[1;32m   1925\u001b[0m     forward_backward = self._select_forward_and_backward_functions(\n",
      "\u001b[0;32m~/.pyenv/versions/lewagon/lib/python3.8/site-packages/tensorflow/python/eager/function.py\u001b[0m in \u001b[0;36mcall\u001b[0;34m(self, ctx, args, cancellation_manager)\u001b[0m\n\u001b[1;32m    543\u001b[0m       \u001b[0;32mwith\u001b[0m \u001b[0m_InterpolateFunctionError\u001b[0m\u001b[0;34m(\u001b[0m\u001b[0mself\u001b[0m\u001b[0;34m)\u001b[0m\u001b[0;34m:\u001b[0m\u001b[0;34m\u001b[0m\u001b[0;34m\u001b[0m\u001b[0m\n\u001b[1;32m    544\u001b[0m         \u001b[0;32mif\u001b[0m \u001b[0mcancellation_manager\u001b[0m \u001b[0;32mis\u001b[0m \u001b[0;32mNone\u001b[0m\u001b[0;34m:\u001b[0m\u001b[0;34m\u001b[0m\u001b[0;34m\u001b[0m\u001b[0m\n\u001b[0;32m--> 545\u001b[0;31m           outputs = execute.execute(\n\u001b[0m\u001b[1;32m    546\u001b[0m               \u001b[0mstr\u001b[0m\u001b[0;34m(\u001b[0m\u001b[0mself\u001b[0m\u001b[0;34m.\u001b[0m\u001b[0msignature\u001b[0m\u001b[0;34m.\u001b[0m\u001b[0mname\u001b[0m\u001b[0;34m)\u001b[0m\u001b[0;34m,\u001b[0m\u001b[0;34m\u001b[0m\u001b[0;34m\u001b[0m\u001b[0m\n\u001b[1;32m    547\u001b[0m               \u001b[0mnum_outputs\u001b[0m\u001b[0;34m=\u001b[0m\u001b[0mself\u001b[0m\u001b[0;34m.\u001b[0m\u001b[0m_num_outputs\u001b[0m\u001b[0;34m,\u001b[0m\u001b[0;34m\u001b[0m\u001b[0;34m\u001b[0m\u001b[0m\n",
      "\u001b[0;32m~/.pyenv/versions/lewagon/lib/python3.8/site-packages/tensorflow/python/eager/execute.py\u001b[0m in \u001b[0;36mquick_execute\u001b[0;34m(op_name, num_outputs, inputs, attrs, ctx, name)\u001b[0m\n\u001b[1;32m     57\u001b[0m   \u001b[0;32mtry\u001b[0m\u001b[0;34m:\u001b[0m\u001b[0;34m\u001b[0m\u001b[0;34m\u001b[0m\u001b[0m\n\u001b[1;32m     58\u001b[0m     \u001b[0mctx\u001b[0m\u001b[0;34m.\u001b[0m\u001b[0mensure_initialized\u001b[0m\u001b[0;34m(\u001b[0m\u001b[0;34m)\u001b[0m\u001b[0;34m\u001b[0m\u001b[0;34m\u001b[0m\u001b[0m\n\u001b[0;32m---> 59\u001b[0;31m     tensors = pywrap_tfe.TFE_Py_Execute(ctx._handle, device_name, op_name,\n\u001b[0m\u001b[1;32m     60\u001b[0m                                         inputs, attrs, num_outputs)\n\u001b[1;32m     61\u001b[0m   \u001b[0;32mexcept\u001b[0m \u001b[0mcore\u001b[0m\u001b[0;34m.\u001b[0m\u001b[0m_NotOkStatusException\u001b[0m \u001b[0;32mas\u001b[0m \u001b[0me\u001b[0m\u001b[0;34m:\u001b[0m\u001b[0;34m\u001b[0m\u001b[0;34m\u001b[0m\u001b[0m\n",
      "\u001b[0;31mKeyboardInterrupt\u001b[0m: "
     ]
    }
   ],
   "source": [
    "# The model\n",
    "#train_flow = datagen.flow(X_tr, y_tr, batch_size=32)\n",
    "model = initialize_model4()\n",
    "model = compile_model(model)\n",
    "from tensorflow.keras.callbacks import EarlyStopping\n",
    "# The early stopping criterion\n",
    "es = EarlyStopping(patience=20, restore_best_weights = True, verbose = 1)\n",
    "\n",
    "# The fit\n",
    "# history_2 = model.fit(train_flow, \n",
    "#                         epochs=1000, \n",
    "#                         callbacks=[es], \n",
    "#                         validation_data=(X_val, y_val), batch_size = 32)\n",
    "history_2 = model.fit(X_tr,y_tr, \n",
    "                        epochs=1000, \n",
    "                        callbacks=[es], \n",
    "                        validation_data=(X_val, y_val), batch_size = 32)\n"
   ]
  },
  {
   "cell_type": "code",
   "execution_count": 29,
   "metadata": {},
   "outputs": [
    {
     "name": "stdout",
     "output_type": "stream",
     "text": [
      "(10778, 65, 65, 7)\n",
      "(10753, 65, 65, 7)\n"
     ]
    }
   ],
   "source": [
    "X_test = val_images[\"image\"].numpy()\n",
    "print(X_test.shape)\n",
    "y_test = val_labels.numpy()\n",
    "indices = np.where([i[i.std() >= 10].all() for i in X_test])\n",
    "X_test, y_test = X_test[indices], y_test[indices]\n",
    "print(X_test.shape)"
   ]
  },
  {
   "cell_type": "code",
   "execution_count": null,
   "metadata": {},
   "outputs": [],
   "source": [
    "\n",
    "plot_history(history_2)\n",
    "plt.show()\n",
    "res = model.evaluate(X_test, y_test, verbose=1)\n",
    "\n",
    "print(f'The accuracy is of {res[1]*100:.3f}%')"
   ]
  },
  {
   "cell_type": "code",
   "execution_count": null,
   "metadata": {},
   "outputs": [],
   "source": [
    "X_tr.shape"
   ]
  },
  {
   "cell_type": "code",
   "execution_count": null,
   "metadata": {},
   "outputs": [],
   "source": [
    "X_trrgb = X_tr[:,:,:,2:5]\n",
    "X_trrgb.shape"
   ]
  },
  {
   "cell_type": "code",
   "execution_count": 42,
   "metadata": {},
   "outputs": [],
   "source": [
    "from tensorflow.keras.applications.vgg16 import VGG16\n",
    "\n",
    "def load_model():\n",
    "    model = VGG16(weights=\"imagenet\", include_top=False, input_shape=X_trrgb[0].shape)\n",
    "    return model"
   ]
  },
  {
   "cell_type": "code",
   "execution_count": null,
   "metadata": {},
   "outputs": [],
   "source": [
    "model2 = load_model()\n",
    "model2.summary()"
   ]
  },
  {
   "cell_type": "code",
   "execution_count": 38,
   "metadata": {},
   "outputs": [
    {
     "name": "stdout",
     "output_type": "stream",
     "text": [
      "Model: \"sequential\"\n",
      "_________________________________________________________________\n",
      "Layer (type)                 Output Shape              Param #   \n",
      "=================================================================\n",
      "conv2d (Conv2D)              (None, 64, 64, 32)        928       \n",
      "_________________________________________________________________\n",
      "max_pooling2d (MaxPooling2D) (None, 32, 32, 32)        0         \n",
      "_________________________________________________________________\n",
      "conv2d_1 (Conv2D)            (None, 31, 31, 64)        8256      \n",
      "_________________________________________________________________\n",
      "conv2d_2 (Conv2D)            (None, 30, 30, 64)        16448     \n",
      "_________________________________________________________________\n",
      "max_pooling2d_1 (MaxPooling2 (None, 15, 15, 64)        0         \n",
      "_________________________________________________________________\n",
      "dropout (Dropout)            (None, 15, 15, 64)        0         \n",
      "_________________________________________________________________\n",
      "conv2d_3 (Conv2D)            (None, 14, 14, 128)       32896     \n",
      "_________________________________________________________________\n",
      "conv2d_4 (Conv2D)            (None, 13, 13, 128)       65664     \n",
      "_________________________________________________________________\n",
      "max_pooling2d_2 (MaxPooling2 (None, 6, 6, 128)         0         \n",
      "_________________________________________________________________\n",
      "dropout_1 (Dropout)          (None, 6, 6, 128)         0         \n",
      "_________________________________________________________________\n",
      "flatten (Flatten)            (None, 4608)              0         \n",
      "_________________________________________________________________\n",
      "dense (Dense)                (None, 64)                294976    \n",
      "_________________________________________________________________\n",
      "dense_1 (Dense)              (None, 64)                4160      \n",
      "_________________________________________________________________\n",
      "dense_2 (Dense)              (None, 4)                 260       \n",
      "=================================================================\n",
      "Total params: 423,588\n",
      "Trainable params: 0\n",
      "Non-trainable params: 423,588\n",
      "_________________________________________________________________\n"
     ]
    }
   ],
   "source": [
    "def set_nontrainable_layers(model):\n",
    "    # Set the first layers to be untrainable\n",
    "    model.trainable = False\n",
    "    \n",
    "    return model\n",
    "\n",
    "model2 = set_nontrainable_layers(model)\n",
    "\n",
    "model2.summary()"
   ]
  },
  {
   "cell_type": "code",
   "execution_count": 39,
   "metadata": {},
   "outputs": [],
   "source": [
    "from tensorflow.keras import layers, models\n",
    "\n",
    "def add_last_layers(model):\n",
    "    base_model = set_nontrainable_layers(model)\n",
    "    flatten_layer = layers.Flatten()\n",
    "    dense_layer = layers.Dense(500, activation='relu')\n",
    "    prediction_layer = layers.Dense(4, activation='softmax')\n",
    "    \n",
    "    \n",
    "    model = models.Sequential([\n",
    "        model,\n",
    "        flatten_layer,\n",
    "        dense_layer,\n",
    "        prediction_layer\n",
    "    ])\n",
    "    \n",
    "    return model"
   ]
  },
  {
   "cell_type": "code",
   "execution_count": 40,
   "metadata": {},
   "outputs": [],
   "source": [
    "model2 = add_last_layers(model2)\n"
   ]
  },
  {
   "cell_type": "code",
   "execution_count": 41,
   "metadata": {},
   "outputs": [],
   "source": [
    "def compile_model(model):\n",
    "    \n",
    "    opt = optimizers.Adam(learning_rate=1e-4)\n",
    "    model.compile(loss='categorical_crossentropy',\n",
    "                  optimizer=opt,\n",
    "                  metrics=['accuracy'])\n",
    "    \n",
    "    return model"
   ]
  },
  {
   "cell_type": "code",
   "execution_count": 43,
   "metadata": {},
   "outputs": [],
   "source": [
    "def build_model():\n",
    "    \n",
    "    model = load_model()\n",
    "    model = add_last_layers(model)\n",
    "    model = compile_model(model)\n",
    "    \n",
    "    return model\n",
    "\n",
    "model2 = build_model()"
   ]
  },
  {
   "cell_type": "code",
   "execution_count": 31,
   "metadata": {},
   "outputs": [],
   "source": [
    "from tensorflow.keras.applications.vgg16 import preprocess_input\n",
    "X_trrgb = X_tr[:,:,:,2:5]\n",
    "X_valrgb = X_val[:,:,:,2:5]\n",
    "X_testrgb = X_test[:,:,:,2:5]\n",
    "X_train = preprocess_input(X_trrgb) \n",
    "X_val = preprocess_input(X_valrgb)\n",
    "X_test = preprocess_input(X_testrgb)"
   ]
  },
  {
   "cell_type": "code",
   "execution_count": null,
   "metadata": {},
   "outputs": [],
   "source": [
    "from tensorflow.keras.callbacks import EarlyStopping\n",
    "\n",
    "es = EarlyStopping(monitor='val_accuracy', mode='max', patience=20, verbose=1, restore_best_weights=True)\n",
    "\n",
    "history = model2.fit(X_train, y_tr, \n",
    "                    validation_data=(X_val, y_val), \n",
    "                    epochs=1000, \n",
    "                    batch_size=32, \n",
    "                    callbacks=[es],verbose = 1)"
   ]
  },
  {
   "cell_type": "code",
   "execution_count": null,
   "metadata": {},
   "outputs": [],
   "source": [
    "plot_history(history)\n",
    "plt.show()\n"
   ]
  },
  {
   "cell_type": "code",
   "execution_count": null,
   "metadata": {},
   "outputs": [],
   "source": [
    "res = model2.evaluate(X_test, y_test, verbose=1)\n",
    "\n",
    "print(f'The accuracy is of {res[1]*100:.3f}%')"
   ]
  },
  {
   "cell_type": "code",
   "execution_count": null,
   "metadata": {},
   "outputs": [
    {
     "name": "stdout",
     "output_type": "stream",
     "text": [
      "WARNING:tensorflow:From <ipython-input-44-98e1cbd73a71>:23: Model.fit_generator (from tensorflow.python.keras.engine.training) is deprecated and will be removed in a future version.\n",
      "Instructions for updating:\n",
      "Please use Model.fit, which supports generators.\n",
      "Epoch 1/1000\n",
      "1872/1872 [==============================] - 560s 299ms/step - loss: 2.4477 - accuracy: 0.5214 - val_loss: 1.7348 - val_accuracy: 0.5797\n",
      "Epoch 2/1000\n",
      "1872/1872 [==============================] - 577s 308ms/step - loss: 1.4332 - accuracy: 0.5588 - val_loss: 1.2388 - val_accuracy: 0.5941\n",
      "Epoch 3/1000\n",
      "1872/1872 [==============================] - 568s 304ms/step - loss: 1.1204 - accuracy: 0.5917 - val_loss: 1.0783 - val_accuracy: 0.5955\n",
      "Epoch 4/1000\n",
      "1872/1872 [==============================] - 585s 313ms/step - loss: 1.0101 - accuracy: 0.6150 - val_loss: 0.9883 - val_accuracy: 0.6194\n",
      "Epoch 5/1000\n",
      "1872/1872 [==============================] - 611s 327ms/step - loss: 0.9654 - accuracy: 0.6307 - val_loss: 0.9687 - val_accuracy: 0.6361\n",
      "Epoch 6/1000\n",
      "1872/1872 [==============================] - 671s 358ms/step - loss: 0.9484 - accuracy: 0.6356 - val_loss: 0.9517 - val_accuracy: 0.6391\n",
      "Epoch 7/1000\n",
      "1872/1872 [==============================] - 652s 348ms/step - loss: 0.9319 - accuracy: 0.6413 - val_loss: 0.9395 - val_accuracy: 0.6389\n",
      "Epoch 8/1000\n",
      "1872/1872 [==============================] - 664s 354ms/step - loss: 0.9211 - accuracy: 0.6444 - val_loss: 0.9282 - val_accuracy: 0.6469\n",
      "Epoch 9/1000\n",
      "1872/1872 [==============================] - 679s 363ms/step - loss: 0.9139 - accuracy: 0.6473 - val_loss: 0.9216 - val_accuracy: 0.6446\n",
      "Epoch 10/1000\n",
      "1872/1872 [==============================] - 640s 342ms/step - loss: 0.9025 - accuracy: 0.6524 - val_loss: 0.9139 - val_accuracy: 0.6517\n",
      "Epoch 11/1000\n",
      "1872/1872 [==============================] - 661s 353ms/step - loss: 0.8994 - accuracy: 0.6556 - val_loss: 0.9201 - val_accuracy: 0.6476\n",
      "Epoch 12/1000\n",
      "1872/1872 [==============================] - 652s 348ms/step - loss: 0.8902 - accuracy: 0.6562 - val_loss: 0.8980 - val_accuracy: 0.6578\n",
      "Epoch 13/1000\n",
      "1872/1872 [==============================] - 755s 403ms/step - loss: 0.8852 - accuracy: 0.6582 - val_loss: 0.9012 - val_accuracy: 0.6548\n",
      "Epoch 14/1000\n",
      "1872/1872 [==============================] - 688s 367ms/step - loss: 0.8784 - accuracy: 0.6627 - val_loss: 0.8983 - val_accuracy: 0.6558\n",
      "Epoch 15/1000\n",
      "1872/1872 [==============================] - 659s 352ms/step - loss: 0.8678 - accuracy: 0.6631 - val_loss: 0.8971 - val_accuracy: 0.6579\n",
      "Epoch 16/1000\n",
      "1872/1872 [==============================] - 699s 373ms/step - loss: 0.8686 - accuracy: 0.6644 - val_loss: 0.8962 - val_accuracy: 0.6595\n",
      "Epoch 17/1000\n",
      "1872/1872 [==============================] - 681s 364ms/step - loss: 0.8647 - accuracy: 0.6648 - val_loss: 0.8933 - val_accuracy: 0.6565\n",
      "Epoch 18/1000\n",
      "1872/1872 [==============================] - 657s 351ms/step - loss: 0.8642 - accuracy: 0.6650 - val_loss: 0.8885 - val_accuracy: 0.6621\n",
      "Epoch 19/1000\n",
      "1872/1872 [==============================] - 651s 348ms/step - loss: 0.8585 - accuracy: 0.6671 - val_loss: 0.8841 - val_accuracy: 0.6611\n",
      "Epoch 20/1000\n",
      "1872/1872 [==============================] - 686s 366ms/step - loss: 0.8527 - accuracy: 0.6720 - val_loss: 0.8713 - val_accuracy: 0.6653\n",
      "Epoch 21/1000\n",
      "1872/1872 [==============================] - 678s 362ms/step - loss: 0.8498 - accuracy: 0.6705 - val_loss: 0.8746 - val_accuracy: 0.6629\n",
      "Epoch 22/1000\n",
      "1872/1872 [==============================] - 693s 370ms/step - loss: 0.8501 - accuracy: 0.6743 - val_loss: 0.8783 - val_accuracy: 0.6668\n",
      "Epoch 23/1000\n",
      "1872/1872 [==============================] - 731s 390ms/step - loss: 0.8517 - accuracy: 0.6706 - val_loss: 0.8705 - val_accuracy: 0.6683\n",
      "Epoch 24/1000\n",
      "1872/1872 [==============================] - 740s 395ms/step - loss: 0.8442 - accuracy: 0.6739 - val_loss: 0.8752 - val_accuracy: 0.6683\n",
      "Epoch 25/1000\n",
      "1872/1872 [==============================] - 686s 366ms/step - loss: 0.8379 - accuracy: 0.6767 - val_loss: 0.8730 - val_accuracy: 0.6678\n",
      "Epoch 26/1000\n",
      "1872/1872 [==============================] - 764s 408ms/step - loss: 0.8397 - accuracy: 0.6741 - val_loss: 0.8625 - val_accuracy: 0.6692\n",
      "Epoch 27/1000\n",
      "1872/1872 [==============================] - 793s 423ms/step - loss: 0.8352 - accuracy: 0.6737 - val_loss: 0.8760 - val_accuracy: 0.6686\n",
      "Epoch 28/1000\n",
      "1872/1872 [==============================] - 724s 387ms/step - loss: 0.8333 - accuracy: 0.6804 - val_loss: 0.8661 - val_accuracy: 0.6711\n",
      "Epoch 29/1000\n",
      "1872/1872 [==============================] - 802s 428ms/step - loss: 0.8281 - accuracy: 0.6804 - val_loss: 0.8492 - val_accuracy: 0.6692\n",
      "Epoch 30/1000\n",
      "1872/1872 [==============================] - 907s 485ms/step - loss: 0.8302 - accuracy: 0.6805 - val_loss: 0.8663 - val_accuracy: 0.6711\n",
      "Epoch 31/1000\n",
      "1872/1872 [==============================] - 852s 455ms/step - loss: 0.8270 - accuracy: 0.6806 - val_loss: 0.8613 - val_accuracy: 0.6693\n",
      "Epoch 32/1000\n",
      "1872/1872 [==============================] - 748s 400ms/step - loss: 0.8240 - accuracy: 0.6822 - val_loss: 0.8599 - val_accuracy: 0.6739\n",
      "Epoch 33/1000\n",
      "1872/1872 [==============================] - 699s 373ms/step - loss: 0.8205 - accuracy: 0.6835 - val_loss: 0.8619 - val_accuracy: 0.6748\n",
      "Epoch 34/1000\n",
      "1872/1872 [==============================] - 728s 389ms/step - loss: 0.8203 - accuracy: 0.6834 - val_loss: 0.8578 - val_accuracy: 0.6774\n",
      "Epoch 35/1000\n",
      "1872/1872 [==============================] - 719s 384ms/step - loss: 0.8197 - accuracy: 0.6817 - val_loss: 0.8655 - val_accuracy: 0.6688\n",
      "Epoch 36/1000\n",
      "1872/1872 [==============================] - 759s 405ms/step - loss: 0.8203 - accuracy: 0.6850 - val_loss: 0.8552 - val_accuracy: 0.6799\n",
      "Epoch 37/1000\n",
      "1872/1872 [==============================] - 742s 396ms/step - loss: 0.8152 - accuracy: 0.6860 - val_loss: 0.8555 - val_accuracy: 0.6762\n",
      "Epoch 38/1000\n",
      "1872/1872 [==============================] - 657s 351ms/step - loss: 0.8147 - accuracy: 0.6852 - val_loss: 0.8453 - val_accuracy: 0.6765\n",
      "Epoch 39/1000\n",
      "1872/1872 [==============================] - 635s 339ms/step - loss: 0.8136 - accuracy: 0.6863 - val_loss: 0.8479 - val_accuracy: 0.6780\n",
      "Epoch 40/1000\n",
      "1872/1872 [==============================] - 637s 340ms/step - loss: 0.8114 - accuracy: 0.6875 - val_loss: 0.8506 - val_accuracy: 0.6789\n",
      "Epoch 41/1000\n",
      "1872/1872 [==============================] - 632s 338ms/step - loss: 0.8123 - accuracy: 0.6892 - val_loss: 0.8427 - val_accuracy: 0.6811\n",
      "Epoch 42/1000\n",
      "1872/1872 [==============================] - 637s 340ms/step - loss: 0.8082 - accuracy: 0.6880 - val_loss: 0.8471 - val_accuracy: 0.6774\n",
      "Epoch 43/1000\n",
      "1872/1872 [==============================] - 643s 344ms/step - loss: 0.8066 - accuracy: 0.6904 - val_loss: 0.8489 - val_accuracy: 0.6752\n",
      "Epoch 44/1000\n",
      "1872/1872 [==============================] - 675s 360ms/step - loss: 0.8054 - accuracy: 0.6874 - val_loss: 0.8404 - val_accuracy: 0.6772\n",
      "Epoch 45/1000\n",
      "1872/1872 [==============================] - 607s 325ms/step - loss: 0.8063 - accuracy: 0.6865 - val_loss: 0.8532 - val_accuracy: 0.6746\n",
      "Epoch 46/1000\n",
      "1872/1872 [==============================] - 566s 302ms/step - loss: 0.8061 - accuracy: 0.6871 - val_loss: 0.8514 - val_accuracy: 0.6780\n",
      "Epoch 47/1000\n",
      "1872/1872 [==============================] - 578s 309ms/step - loss: 0.7986 - accuracy: 0.6906 - val_loss: 0.8381 - val_accuracy: 0.6818\n",
      "Epoch 48/1000\n",
      "1872/1872 [==============================] - 583s 312ms/step - loss: 0.8024 - accuracy: 0.6898 - val_loss: 0.8490 - val_accuracy: 0.6824\n",
      "Epoch 49/1000\n",
      "1872/1872 [==============================] - 592s 316ms/step - loss: 0.7987 - accuracy: 0.6918 - val_loss: 0.8309 - val_accuracy: 0.6830\n",
      "Epoch 50/1000\n",
      "1872/1872 [==============================] - 668s 357ms/step - loss: 0.7979 - accuracy: 0.6933 - val_loss: 0.8421 - val_accuracy: 0.6812\n",
      "Epoch 51/1000\n",
      "1872/1872 [==============================] - 658s 351ms/step - loss: 0.7972 - accuracy: 0.6908 - val_loss: 0.8420 - val_accuracy: 0.6811\n",
      "Epoch 52/1000\n",
      "1872/1872 [==============================] - 686s 366ms/step - loss: 0.7975 - accuracy: 0.6917 - val_loss: 0.8482 - val_accuracy: 0.6789\n",
      "Epoch 53/1000\n"
     ]
    },
    {
     "name": "stdout",
     "output_type": "stream",
     "text": [
      "1872/1872 [==============================] - 685s 366ms/step - loss: 0.7998 - accuracy: 0.6922 - val_loss: 0.8395 - val_accuracy: 0.6809\n",
      "Epoch 54/1000\n",
      "1872/1872 [==============================] - 683s 365ms/step - loss: 0.7909 - accuracy: 0.6948 - val_loss: 0.8450 - val_accuracy: 0.6828\n",
      "Epoch 55/1000\n",
      "1872/1872 [==============================] - 683s 365ms/step - loss: 0.7943 - accuracy: 0.6920 - val_loss: 0.8264 - val_accuracy: 0.6848\n",
      "Epoch 56/1000\n",
      "1872/1872 [==============================] - 669s 357ms/step - loss: 0.7927 - accuracy: 0.6944 - val_loss: 0.8349 - val_accuracy: 0.6865\n",
      "Epoch 57/1000\n",
      "1872/1872 [==============================] - 746s 398ms/step - loss: 0.7888 - accuracy: 0.6958 - val_loss: 0.8407 - val_accuracy: 0.6833\n",
      "Epoch 58/1000\n",
      "1872/1872 [==============================] - 787s 421ms/step - loss: 0.7853 - accuracy: 0.6962 - val_loss: 0.8376 - val_accuracy: 0.6879\n",
      "Epoch 59/1000\n",
      "1872/1872 [==============================] - 777s 415ms/step - loss: 0.7922 - accuracy: 0.6935 - val_loss: 0.8285 - val_accuracy: 0.6877\n",
      "Epoch 60/1000\n",
      "1872/1872 [==============================] - 759s 406ms/step - loss: 0.7931 - accuracy: 0.6945 - val_loss: 0.8373 - val_accuracy: 0.6857\n",
      "Epoch 61/1000\n",
      "1872/1872 [==============================] - 700s 374ms/step - loss: 0.7864 - accuracy: 0.6969 - val_loss: 0.8354 - val_accuracy: 0.6867\n",
      "Epoch 62/1000\n",
      "1872/1872 [==============================] - 762s 407ms/step - loss: 0.7922 - accuracy: 0.6925 - val_loss: 0.8389 - val_accuracy: 0.6815\n",
      "Epoch 63/1000\n",
      "1872/1872 [==============================] - 777s 415ms/step - loss: 0.7869 - accuracy: 0.6956 - val_loss: 0.8417 - val_accuracy: 0.6784\n",
      "Epoch 64/1000\n",
      "1872/1872 [==============================] - 760s 406ms/step - loss: 0.7794 - accuracy: 0.6983 - val_loss: 0.8458 - val_accuracy: 0.6837\n",
      "Epoch 65/1000\n",
      " 111/1872 [>.............................] - ETA: 8:58 - loss: 0.7337 - accuracy: 0.7241"
     ]
    }
   ],
   "source": [
    "from keras.preprocessing.image import ImageDataGenerator\n",
    "\n",
    "datagen = ImageDataGenerator(\n",
    "    featurewise_center=False,\n",
    "    featurewise_std_normalization=False,\n",
    "    rotation_range=20,\n",
    "    width_shift_range=0.2,\n",
    "    height_shift_range=0.2,\n",
    "    horizontal_flip=True,\n",
    "    brightness_range=(0.5, 1.),\n",
    "    zoom_range=(0.5, 1.2))\n",
    "\n",
    "\n",
    "# compute quantities required for featurewise normalization\n",
    "# (std, mean, and principal components if ZCA whitening is applied)\n",
    "datagen.fit(X_trrgb)\n",
    "\n",
    "model_data_aug = build_model()\n",
    "\n",
    "train_flow = datagen.flow(X_trrgb, y_tr, batch_size=16)\n",
    "val_flow = datagen.flow(X_valrgb, y_val, batch_size=16)\n",
    "es = EarlyStopping(monitor='val_accuracy', mode='max', patience=20, verbose=1, restore_best_weights=True)\n",
    "history_data_aug = model_data_aug.fit_generator(train_flow, epochs=1000, validation_data=val_flow, callbacks=[es])"
   ]
  },
  {
   "cell_type": "code",
   "execution_count": null,
   "metadata": {},
   "outputs": [],
   "source": [
    "res = model_data_aug.evaluate(X_testrgb, y_test, verbose=1)\n",
    "\n",
    "print(f'The accuracy is of {res[1]*100:.3f}%')"
   ]
  },
  {
   "cell_type": "code",
   "execution_count": null,
   "metadata": {},
   "outputs": [],
   "source": [
    "plot_history(history_data_aug)"
   ]
  },
  {
   "cell_type": "code",
   "execution_count": null,
   "metadata": {},
   "outputs": [],
   "source": [
    "# serialize model to JSON\n",
    "model_json = model_data_aug.to_json()\n",
    "with open(\"model.json\", \"w\") as json_file:\n",
    "    json_file.write(model_json)\n",
    "# serialize weights to HDF5\n",
    "model_data_aug.save_weights(\"model.h5\")\n",
    "print(\"Saved model to disk\")"
   ]
  },
  {
   "cell_type": "code",
   "execution_count": null,
   "metadata": {},
   "outputs": [],
   "source": [
    "from keras.models import model_from_json\n",
    "# load json and create model\n",
    "json_file = open('model.json', 'r')\n",
    "loaded_model_json = json_file.read()\n",
    "json_file.close()\n",
    "loaded_model = model_from_json(loaded_model_json)\n",
    "# load weights into new model\n",
    "loaded_model.load_weights(\"model.h5\")\n",
    "print(\"Loaded model from disk\")\n",
    " \n",
    "# evaluate loaded model on test data\n",
    "loaded_model.compile(loss='binary_crossentropy', optimizer='adam', metrics=['accuracy'])\n",
    "score = loaded_model.evaluate(X_testrgb, y_test, verbose=1)\n",
    "print(\"%s: %.2f%%\" % (loaded_model.metrics_names[1], score[1]*100))\n"
   ]
  }
 ],
 "metadata": {
  "kernelspec": {
   "display_name": "Python 3",
   "language": "python",
   "name": "python3"
  },
  "language_info": {
   "codemirror_mode": {
    "name": "ipython",
    "version": 3
   },
   "file_extension": ".py",
   "mimetype": "text/x-python",
   "name": "python",
   "nbconvert_exporter": "python",
   "pygments_lexer": "ipython3",
   "version": "3.8.5"
  },
  "toc": {
   "base_numbering": 1,
   "nav_menu": {},
   "number_sections": true,
   "sideBar": true,
   "skip_h1_title": false,
   "title_cell": "Table of Contents",
   "title_sidebar": "Contents",
   "toc_cell": false,
   "toc_position": {},
   "toc_section_display": true,
   "toc_window_display": false
  },
  "varInspector": {
   "cols": {
    "lenName": 16,
    "lenType": 16,
    "lenVar": 40
   },
   "kernels_config": {
    "python": {
     "delete_cmd_postfix": "",
     "delete_cmd_prefix": "del ",
     "library": "var_list.py",
     "varRefreshCmd": "print(var_dic_list())"
    },
    "r": {
     "delete_cmd_postfix": ") ",
     "delete_cmd_prefix": "rm(",
     "library": "var_list.r",
     "varRefreshCmd": "cat(var_dic_list()) "
    }
   },
   "position": {
    "height": "418.391px",
    "left": "1314.19px",
    "right": "20px",
    "top": "235px",
    "width": "482px"
   },
   "types_to_exclude": [
    "module",
    "function",
    "builtin_function_or_method",
    "instance",
    "_Feature"
   ],
   "window_display": true
  }
 },
 "nbformat": 4,
 "nbformat_minor": 2
}
