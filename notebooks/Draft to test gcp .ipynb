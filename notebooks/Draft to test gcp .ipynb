{
 "cells": [
  {
   "cell_type": "code",
   "execution_count": 2,
   "metadata": {
    "ExecuteTime": {
     "end_time": "2020-12-03T14:34:13.001183Z",
     "start_time": "2020-12-03T14:34:07.495547Z"
    }
   },
   "outputs": [],
   "source": [
    "import os\n",
    "import numpy as np\n",
    "import tensorflow.compat.v1 as tf\n",
    "import argparse\n",
    "import math\n",
    "from tensorflow.keras import optimizers\n",
    "from tensorflow.keras import layers, initializers\n",
    "from tensorflow.keras import models\n",
    "from tensorflow.keras.callbacks import EarlyStopping\n",
    "from tensorflow.keras.applications.vgg16 import VGG16\n",
    "from tensorflow.keras.applications.vgg16 import preprocess_input\n",
    "from google.cloud import storage"
   ]
  },
  {
   "cell_type": "code",
   "execution_count": 1,
   "metadata": {
    "ExecuteTime": {
     "end_time": "2020-12-03T08:55:38.180079Z",
     "start_time": "2020-12-03T08:55:37.480000Z"
    }
   },
   "outputs": [],
   "source": [
    "from google.cloud import storage\n",
    "client = storage.Client()\n",
    "bucket = storage.Bucket(\"tfrecords_data\")"
   ]
  },
  {
   "cell_type": "code",
   "execution_count": 2,
   "metadata": {
    "ExecuteTime": {
     "end_time": "2020-12-03T08:55:38.202324Z",
     "start_time": "2020-12-03T08:55:38.182221Z"
    }
   },
   "outputs": [
    {
     "data": {
      "text/plain": [
       "<Bucket: None>"
      ]
     },
     "execution_count": 2,
     "metadata": {},
     "output_type": "execute_result"
    }
   ],
   "source": [
    "bucket"
   ]
  },
  {
   "cell_type": "code",
   "execution_count": 3,
   "metadata": {
    "ExecuteTime": {
     "end_time": "2020-12-03T08:55:38.240204Z",
     "start_time": "2020-12-03T08:55:38.217967Z"
    }
   },
   "outputs": [
    {
     "name": "stdout",
     "output_type": "stream",
     "text": [
      "drought-watch-297217\n"
     ]
    }
   ],
   "source": [
    "print(client.project)"
   ]
  },
  {
   "cell_type": "code",
   "execution_count": 4,
   "metadata": {
    "ExecuteTime": {
     "end_time": "2020-12-03T08:55:38.611592Z",
     "start_time": "2020-12-03T08:55:38.251349Z"
    }
   },
   "outputs": [
    {
     "data": {
      "text/plain": [
       "<Bucket: tfrecords_data>"
      ]
     },
     "execution_count": 4,
     "metadata": {},
     "output_type": "execute_result"
    }
   ],
   "source": [
    "client.get_bucket('tfrecords_data')"
   ]
  },
  {
   "cell_type": "code",
   "execution_count": 5,
   "metadata": {
    "ExecuteTime": {
     "end_time": "2020-12-03T08:55:38.693572Z",
     "start_time": "2020-12-03T08:55:38.619735Z"
    }
   },
   "outputs": [],
   "source": [
    "bucket = client.get_bucket('tfrecords_data')"
   ]
  },
  {
   "cell_type": "code",
   "execution_count": 6,
   "metadata": {
    "ExecuteTime": {
     "end_time": "2020-12-03T08:55:38.711145Z",
     "start_time": "2020-12-03T08:55:38.701216Z"
    }
   },
   "outputs": [
    {
     "data": {
      "text/plain": [
       "<Bucket: tfrecords_data>"
      ]
     },
     "execution_count": 6,
     "metadata": {},
     "output_type": "execute_result"
    }
   ],
   "source": [
    "bucket"
   ]
  },
  {
   "cell_type": "code",
   "execution_count": 7,
   "metadata": {
    "ExecuteTime": {
     "end_time": "2020-12-03T08:55:39.264847Z",
     "start_time": "2020-12-03T08:55:38.728892Z"
    }
   },
   "outputs": [
    {
     "data": {
      "text/plain": [
       "[<Blob: tfrecords_data, data/.keep, 1606794361936555>,\n",
       " <Blob: tfrecords_data, data/packages/32b84a90e82f41bebde764ce0be9b8a369e9514bf2fd7c0090a2048e29a9af03/droughtwatch-1.0.tar.gz, 1606961340183751>,\n",
       " <Blob: tfrecords_data, data/train/_SUCCESS, 1606757932845610>,\n",
       " <Blob: tfrecords_data, data/train/packages/18a0afcaad5ebc0ee4c4b3ab8585a000861963227e202f29ccd14d497f929000/droughtwatch-1.0.tar.gz, 1606950250284447>,\n",
       " <Blob: tfrecords_data, data/train/packages/96a06f9e40ea9c8ed89e5329c05dd05515c3e0ea16f4e1d385b973590555ecf5/droughtwatch-1.0.tar.gz, 1606953999422902>,\n",
       " <Blob: tfrecords_data, data/train/packages/b55e09b3de7ecf9a6cf9821d20839f17547395b1fe3364aac2c2844624590127/droughtwatch-1.0.tar.gz, 1606954062123263>,\n",
       " <Blob: tfrecords_data, data/train/part-r-00000, 1606783796410444>,\n",
       " <Blob: tfrecords_data, data/train/part-r-00001, 1606795729376419>,\n",
       " <Blob: tfrecords_data, data/train/part-r-00002, 1606803419245464>,\n",
       " <Blob: tfrecords_data, data/train/part-r-00003, 1606803278454688>,\n",
       " <Blob: tfrecords_data, data/train/part-r-00004, 1606806313123746>,\n",
       " <Blob: tfrecords_data, data/train/part-r-00005, 1606805381513139>,\n",
       " <Blob: tfrecords_data, data/train/part-r-00006, 1606797171769458>,\n",
       " <Blob: tfrecords_data, data/train/part-r-00007, 1606795913430213>,\n",
       " <Blob: tfrecords_data, data/train/part-r-00008, 1606796592702189>,\n",
       " <Blob: tfrecords_data, data/train/part-r-00009, 1606795270249267>,\n",
       " <Blob: tfrecords_data, data/train/part-r-00010, 1606764353000114>,\n",
       " <Blob: tfrecords_data, data/train/part-r-00011, 1606759646642211>,\n",
       " <Blob: tfrecords_data, data/train/part-r-00012, 1606800811501586>,\n",
       " <Blob: tfrecords_data, data/train/part-r-00013, 1606797627411358>,\n",
       " <Blob: tfrecords_data, data/train/part-r-00014, 1606799426952520>,\n",
       " <Blob: tfrecords_data, data/train/part-r-00015, 1606799000400629>,\n",
       " <Blob: tfrecords_data, data/train/part-r-00016, 1606758976683221>,\n",
       " <Blob: tfrecords_data, data/train/part-r-00017, 1606759633558805>,\n",
       " <Blob: tfrecords_data, data/train/part-r-00018, 1606835419441334>,\n",
       " <Blob: tfrecords_data, data/train/part-r-00019, 1606758315967888>,\n",
       " <Blob: tfrecords_data, data/train/part-r-00020, 1606804603716838>,\n",
       " <Blob: tfrecords_data, data/train/part-r-00021, 1606759387136457>,\n",
       " <Blob: tfrecords_data, data/train/part-r-00022, 1606797969609945>,\n",
       " <Blob: tfrecords_data, data/train/part-r-00023, 1606798720978012>,\n",
       " <Blob: tfrecords_data, data/train/part-r-00024, 1606799568548711>,\n",
       " <Blob: tfrecords_data, data/train/part-r-00025, 1606801612174837>,\n",
       " <Blob: tfrecords_data, data/train/part-r-00026, 1606758061833378>,\n",
       " <Blob: tfrecords_data, data/train/part-r-00027, 1606758853001000>,\n",
       " <Blob: tfrecords_data, data/train/part-r-00028, 1606758322598294>,\n",
       " <Blob: tfrecords_data, data/train/part-r-00029, 1606835119216786>,\n",
       " <Blob: tfrecords_data, data/train/part-r-00030, 1606796853386014>,\n",
       " <Blob: tfrecords_data, data/train/part-r-00031, 1606796969003407>,\n",
       " <Blob: tfrecords_data, data/train/part-r-00032, 1606803550465211>,\n",
       " <Blob: tfrecords_data, data/train/part-r-00033, 1606802901778685>,\n",
       " <Blob: tfrecords_data, data/train/part-r-00034, 1606802379250218>,\n",
       " <Blob: tfrecords_data, data/train/part-r-00035, 1606805774209869>,\n",
       " <Blob: tfrecords_data, data/train/part-r-00036, 1606797491242283>,\n",
       " <Blob: tfrecords_data, data/train/part-r-00037, 1606795067639162>,\n",
       " <Blob: tfrecords_data, data/train/part-r-00038, 1606784188835518>,\n",
       " <Blob: tfrecords_data, data/train/part-r-00039, 1606795089769451>,\n",
       " <Blob: tfrecords_data, data/train/part-r-00040, 1606800483670983>,\n",
       " <Blob: tfrecords_data, data/train/part-r-00041, 1606799031212991>,\n",
       " <Blob: tfrecords_data, data/train/part-r-00042, 1606782646088687>,\n",
       " <Blob: tfrecords_data, data/train/part-r-00043, 1606782460160237>,\n",
       " <Blob: tfrecords_data, data/train/part-r-00044, 1606760874449461>,\n",
       " <Blob: tfrecords_data, data/train/part-r-00045, 1606835516612750>,\n",
       " <Blob: tfrecords_data, data/train/part-r-00046, 1606801041262962>,\n",
       " <Blob: tfrecords_data, data/train/part-r-00047, 1606799571179199>,\n",
       " <Blob: tfrecords_data, data/train/part-r-00048, 1606798755321215>,\n",
       " <Blob: tfrecords_data, data/train/part-r-00049, 1606799310535746>,\n",
       " <Blob: tfrecords_data, data/train/part-r-00050, 1606805015230568>,\n",
       " <Blob: tfrecords_data, data/train/part-r-00051, 1606802776237360>,\n",
       " <Blob: tfrecords_data, data/train/part-r-00052, 1606795859727604>,\n",
       " <Blob: tfrecords_data, data/train/part-r-00053, 1606797241524552>,\n",
       " <Blob: tfrecords_data, data/train/part-r-00054, 1606794912927749>,\n",
       " <Blob: tfrecords_data, data/train/part-r-00055, 1606794963489336>,\n",
       " <Blob: tfrecords_data, data/train/part-r-00056, 1606804383586242>,\n",
       " <Blob: tfrecords_data, data/train/part-r-00057, 1606803560213110>,\n",
       " <Blob: tfrecords_data, data/train/part-r-00058, 1606804445293878>,\n",
       " <Blob: tfrecords_data, data/train/part-r-00059, 1606802219627022>,\n",
       " <Blob: tfrecords_data, data/train/part-r-00060, 1606803668779313>,\n",
       " <Blob: tfrecords_data, data/train/part-r-00061, 1606804722826026>,\n",
       " <Blob: tfrecords_data, data/train/part-r-00062, 1606795543798686>,\n",
       " <Blob: tfrecords_data, data/train/part-r-00063, 1606799520316216>,\n",
       " <Blob: tfrecords_data, data/train/part-r-00064, 1606801081854186>,\n",
       " <Blob: tfrecords_data, data/train/part-r-00065, 1606795673357166>,\n",
       " <Blob: tfrecords_data, data/train/part-r-00066, 1606805002764784>,\n",
       " <Blob: tfrecords_data, data/train/part-r-00067, 1606804052224669>,\n",
       " <Blob: tfrecords_data, data/train/part-r-00068, 1606801884251921>,\n",
       " <Blob: tfrecords_data, data/train/part-r-00069, 1606805154431841>,\n",
       " <Blob: tfrecords_data, data/train/part-r-00070, 1606800281135615>,\n",
       " <Blob: tfrecords_data, data/train/part-r-00071, 1606797897154045>,\n",
       " <Blob: tfrecords_data, data/train/part-r-00072, 1606783027744452>,\n",
       " <Blob: tfrecords_data, data/train/part-r-00073, 1606761231310049>,\n",
       " <Blob: tfrecords_data, data/train/part-r-00074, 1606761058309317>,\n",
       " <Blob: tfrecords_data, data/train/part-r-00075, 1606758589602010>,\n",
       " <Blob: tfrecords_data, data/train/part-r-00076, 1606801548957396>,\n",
       " <Blob: tfrecords_data, data/train/part-r-00077, 1606801443395150>,\n",
       " <Blob: tfrecords_data, data/train/part-r-00078, 1606799970109155>,\n",
       " <Blob: tfrecords_data, data/train/part-r-00079, 1606797825783668>,\n",
       " <Blob: tfrecords_data, data/train/part-r-00080, 1606759785496683>,\n",
       " <Blob: tfrecords_data, data/train/part-r-00081, 1606764119051546>,\n",
       " <Blob: tfrecords_data, data/train/part-r-00082, 1606798406225519>,\n",
       " <Blob: tfrecords_data, data/train/part-r-00083, 1606799835468016>,\n",
       " <Blob: tfrecords_data, data/train/part-r-00084, 1606797997717488>,\n",
       " <Blob: tfrecords_data, data/train/part-r-00085, 1606800950457883>,\n",
       " <Blob: tfrecords_data, data/train/part-r-00086, 1606762393310044>,\n",
       " <Blob: tfrecords_data, data/train/part-r-00087, 1606782460136259>,\n",
       " <Blob: tfrecords_data, data/train/part-r-00088, 1606835375688171>,\n",
       " <Blob: tfrecords_data, data/train/part-r-00089, 1606782645996302>,\n",
       " <Blob: tfrecords_data, data/train/part-r-00090, 1606800910058757>,\n",
       " <Blob: tfrecords_data, data/train/part-r-00091, 1606797105787789>,\n",
       " <Blob: tfrecords_data, data/train/part-r-00092, 1606806250352016>,\n",
       " <Blob: tfrecords_data, data/train/part-r-00093, 1606806007457628>,\n",
       " <Blob: tfrecords_data, data/train/part-r-00094, 1606802089257316>,\n",
       " <Blob: tfrecords_data, data/train/part-r-00095, 1606804992934268>,\n",
       " <Blob: tfrecords_data, data/train/part-r-00096, 1606795286444783>,\n",
       " <Blob: tfrecords_data, data/train/part-r-00097, 1606798468154124>,\n",
       " <Blob: tfrecords_data, data/train/part-r-00098, 1606796243849710>,\n",
       " <Blob: tfrecords_data, data/train/part-r-00099, 1606796294622069>,\n",
       " <Blob: tfrecords_data, data/train/part-r-00100, 1606759916860820>,\n",
       " <Blob: tfrecords_data, data/train/part-r-00101, 1606758055692484>,\n",
       " <Blob: tfrecords_data, data/train/part-r-00102, 1606802632654024>,\n",
       " <Blob: tfrecords_data, data/train/part-r-00103, 1606800367418359>,\n",
       " <Blob: tfrecords_data, data/train/part-r-00104, 1606800098509869>,\n",
       " <Blob: tfrecords_data, data/train/part-r-00105, 1606798033162369>,\n",
       " <Blob: tfrecords_data, data/train/part-r-00106, 1606781995085595>,\n",
       " <Blob: tfrecords_data, data/train/part-r-00107, 1606782893156632>,\n",
       " <Blob: tfrecords_data, data/train/part-r-00108, 1606758733126659>,\n",
       " <Blob: tfrecords_data, data/train/part-r-00109, 1606758187402892>,\n",
       " <Blob: tfrecords_data, data/train/part-r-00110, 1606784122939885>,\n",
       " <Blob: tfrecords_data, data/train/part-r-00111, 1606794723183033>,\n",
       " <Blob: tfrecords_data, data/train/part-r-00112, 1606803148481876>,\n",
       " <Blob: tfrecords_data, data/train/part-r-00113, 1606804002087547>,\n",
       " <Blob: tfrecords_data, data/train/part-r-00114, 1606801967677098>,\n",
       " <Blob: tfrecords_data, data/train/part-r-00115, 1606801688831660>,\n",
       " <Blob: tfrecords_data, data/train/part-r-00116, 1606788195094610>,\n",
       " <Blob: tfrecords_data, data/train/part-r-00117, 1606788700168898>,\n",
       " <Blob: tfrecords_data, data/train/part-r-00118, 1606794251700481>,\n",
       " <Blob: tfrecords_data, data/train/part-r-00119, 1606835275360907>,\n",
       " <Blob: tfrecords_data, data/train/part-r-00120, 1606789859677116>,\n",
       " <Blob: tfrecords_data, data/train/part-r-00121, 1606785060168181>,\n",
       " <Blob: tfrecords_data, data/train/part-r-00122, 1606802241687945>,\n",
       " <Blob: tfrecords_data, data/train/part-r-00123, 1606802017804571>,\n",
       " <Blob: tfrecords_data, data/train/part-r-00124, 1606805903346699>,\n",
       " <Blob: tfrecords_data, data/train/part-r-00125, 1606803841402808>,\n",
       " <Blob: tfrecords_data, data/train/part-r-00126, 1606784364837027>,\n",
       " <Blob: tfrecords_data, data/train/part-r-00127, 1606784482516871>,\n",
       " <Blob: tfrecords_data, data/train/part-r-00128, 1606835241801193>,\n",
       " <Blob: tfrecords_data, data/train/part-r-00129, 1606787970247041>,\n",
       " <Blob: tfrecords_data, data/train/part-r-00130, 1606758460940294>,\n",
       " <Blob: tfrecords_data, data/train/part-r-00131, 1606764360017575>,\n",
       " <Blob: tfrecords_data, data/train/part-r-00132, 1606801163232587>,\n",
       " <Blob: tfrecords_data, data/train/part-r-00133, 1606803713978806>,\n",
       " <Blob: tfrecords_data, data/train/part-r-00134, 1606803410624092>,\n",
       " <Blob: tfrecords_data, data/train/part-r-00135, 1606800756522770>,\n",
       " <Blob: tfrecords_data, data/train/part-r-00136, 1606781983416132>,\n",
       " <Blob: tfrecords_data, data/train/part-r-00137, 1606759758105145>,\n",
       " <Blob: tfrecords_data, data/train/part-r-00138, 1606758991110011>,\n",
       " <Blob: tfrecords_data, data/train/part-r-00139, 1606758456023541>,\n",
       " <Blob: tfrecords_data, data/train/part-r-00140, 1606803151234507>,\n",
       " <Blob: tfrecords_data, data/train/part-r-00141, 1606803025965318>,\n",
       " <Blob: tfrecords_data, data/train/part-r-00142, 1606785088921975>,\n",
       " <Blob: tfrecords_data, data/train/part-r-00143, 1606783463196367>,\n",
       " <Blob: tfrecords_data, data/train/part-r-00144, 1606788055631529>,\n",
       " <Blob: tfrecords_data, data/train/part-r-00145, 1606783652075726>,\n",
       " <Blob: tfrecords_data, data/train/part-r-00146, 1606805642553665>,\n",
       " <Blob: tfrecords_data, data/train/part-r-00147, 1606805651701001>,\n",
       " <Blob: tfrecords_data, data/train/part-r-00148, 1606805907617155>,\n",
       " <Blob: tfrecords_data, data/train/part-r-00149, 1606804251598051>,\n",
       " <Blob: tfrecords_data, data/train/part-r-00150, 1606801209916342>,\n",
       " <Blob: tfrecords_data, data/train/part-r-00151, 1606800005302551>,\n",
       " <Blob: tfrecords_data, data/train/part-r-00152, 1606760873453692>,\n",
       " <Blob: tfrecords_data, data/train/part-r-00153, 1606759114050081>,\n",
       " <Blob: tfrecords_data, data/train/part-r-00154, 1606758722951425>,\n",
       " <Blob: tfrecords_data, data/train/part-r-00155, 1606782932815680>,\n",
       " <Blob: tfrecords_data, data/train/part-r-00156, 1606799132089381>,\n",
       " <Blob: tfrecords_data, data/train/part-r-00157, 1606798596303138>,\n",
       " <Blob: tfrecords_data, data/train/part-r-00158, 1606799397830123>,\n",
       " <Blob: tfrecords_data, data/train/part-r-00159, 1606801297884988>,\n",
       " <Blob: tfrecords_data, data/train/part-r-00160, 1606800151041580>,\n",
       " <Blob: tfrecords_data, data/train/part-r-00161, 1606799697781284>,\n",
       " <Blob: tfrecords_data, data/train/part-r-00162, 1606759240914335>,\n",
       " <Blob: tfrecords_data, data/train/part-r-00163, 1606782931379309>,\n",
       " <Blob: tfrecords_data, data/train/part-r-00164, 1606759101513735>,\n",
       " <Blob: tfrecords_data, data/train/part-r-00165, 1606782764724670>,\n",
       " <Blob: tfrecords_data, data/train/part-r-00166, 1606797757948499>,\n",
       " <Blob: tfrecords_data, data/train/part-r-00167, 1606797759971596>,\n",
       " <Blob: tfrecords_data, data/train/part-r-00168, 1606798344578497>,\n",
       " <Blob: tfrecords_data, data/train/part-r-00169, 1606801576493243>,\n",
       " <Blob: tfrecords_data, data/train/part-r-00170, 1606802643043831>,\n",
       " <Blob: tfrecords_data, data/train/part-r-00171, 1606803027194514>,\n",
       " <Blob: tfrecords_data, data/train/part-r-00172, 1606835810714537>,\n",
       " <Blob: tfrecords_data, data/train/part-r-00173, 1606788503862573>,\n",
       " <Blob: tfrecords_data, data/train/part-r-00174, 1606835129404478>,\n",
       " <Blob: tfrecords_data, data/train/part-r-00175, 1606789387340367>,\n",
       " <Blob: tfrecords_data, data/train/part-r-00176, 1606802350673999>,\n",
       " <Blob: tfrecords_data, data/train/part-r-00177, 1606803022282412>,\n",
       " <Blob: tfrecords_data, data/train/part-r-00178, 1606806177237957>,\n",
       " <Blob: tfrecords_data, data/train/part-r-00179, 1606802094973577>,\n",
       " <Blob: tfrecords_data, data/train/part-r-00180, 1606784427700908>,\n",
       " <Blob: tfrecords_data, data/train/part-r-00181, 1606834988158476>,\n",
       " <Blob: tfrecords_data, data/train/part-r-00182, 1606802526095310>,\n",
       " <Blob: tfrecords_data, data/train/part-r-00183, 1606805400111456>,\n",
       " <Blob: tfrecords_data, data/train/part-r-00184, 1606803415933469>,\n",
       " <Blob: tfrecords_data, data/train/part-r-00185, 1606803571914129>,\n",
       " <Blob: tfrecords_data, data/train/part-r-00186, 1606784494737859>,\n",
       " <Blob: tfrecords_data, data/train/part-r-00187, 1606784705872267>,\n",
       " <Blob: tfrecords_data, data/train/part-r-00188, 1606794002652688>,\n",
       " <Blob: tfrecords_data, data/train/part-r-00189, 1606790446273454>,\n",
       " <Blob: tfrecords_data, data/train/part-r-00190, 1606759506494044>,\n",
       " <Blob: tfrecords_data, data/train/part-r-00191, 1606783268812541>,\n",
       " <Blob: tfrecords_data, data/train/part-r-00192, 1606799173705104>,\n",
       " <Blob: tfrecords_data, data/train/part-r-00193, 1606801027648352>,\n",
       " <Blob: tfrecords_data, data/train/part-r-00194, 1606800539732623>,\n",
       " <Blob: tfrecords_data, data/train/part-r-00195, 1606801312601487>,\n",
       " <Blob: tfrecords_data, data/train/part-r-00196, 1606759250797330>,\n",
       " <Blob: tfrecords_data, data/train/part-r-00197, 1606783149754207>,\n",
       " <Blob: tfrecords_data, data/train/part-r-00198, 1606758066779488>,\n",
       " <Blob: tfrecords_data, data/train/part-r-00199, 1606757930958481>,\n",
       " <Blob: tfrecords_data, data/train/part-r-01000, 1606789434222644>,\n",
       " <Blob: tfrecords_data, data/train/part-r-01001, 1606789120281536>,\n",
       " <Blob: tfrecords_data, data/train/part-r-01002, 1606802511642858>,\n",
       " <Blob: tfrecords_data, data/train/part-r-01003, 1606806317106019>,\n",
       " <Blob: tfrecords_data, data/train/part-r-01004, 1606801755208336>,\n",
       " <Blob: tfrecords_data, data/train/part-r-01005, 1606806346197664>,\n",
       " <Blob: tfrecords_data, data/train/part-r-01006, 1606787405836334>,\n",
       " <Blob: tfrecords_data, data/train/part-r-01007, 1606790153268896>,\n",
       " <Blob: tfrecords_data, data/train/part-r-01008, 1606783396723504>,\n",
       " <Blob: tfrecords_data, data/train/part-r-01009, 1606794724310544>,\n",
       " <Blob: tfrecords_data, data/train/part-r-01010, 1606758604629089>,\n",
       " <Blob: tfrecords_data, data/train/part-r-01011, 1606764117546012>,\n",
       " <Blob: tfrecords_data, data/train/part-r-01012, 1606806176485213>,\n",
       " <Blob: tfrecords_data, data/train/part-r-01013, 1606801479707070>,\n",
       " <Blob: tfrecords_data, data/train/part-r-01014, 1606799440543981>,\n",
       " <Blob: tfrecords_data, data/train/part-r-01015, 1606805772657051>,\n",
       " <Blob: tfrecords_data, data/train/part-r-01016, 1606758719139957>,\n",
       " <Blob: tfrecords_data, data/train/part-r-01017, 1606781994442424>,\n",
       " <Blob: tfrecords_data, data/train/part-r-01018, 1606835395656106>,\n",
       " <Blob: tfrecords_data, data/train/part-r-01019, 1606759775957188>,\n",
       " <Blob: tfrecords_data, data/train/part-r-01020, 1606762389428523>,\n",
       " <Blob: tfrecords_data, data/train/part-r-01021, 1606759638194087>,\n",
       " <Blob: tfrecords_data, data/train/part-r-01022, 1606801423228054>,\n",
       " <Blob: tfrecords_data, data/train/part-r-01023, 1606802776631115>,\n",
       " <Blob: tfrecords_data, data/train/part-r-01024, 1606804507571087>,\n",
       " <Blob: tfrecords_data, data/train/part-r-01025, 1606800613547456>,\n",
       " <Blob: tfrecords_data, data/train/part-r-01026, 1606783193087075>,\n",
       " <Blob: tfrecords_data, data/train/part-r-01027, 1606758446337971>,\n",
       " <Blob: tfrecords_data, data/train/part-r-01028, 1606758185368121>,\n",
       " <Blob: tfrecords_data, data/train/part-r-01029, 1606762389596306>,\n",
       " <Blob: tfrecords_data, data/train/part-r-01030, 1606783740750529>,\n",
       " <Blob: tfrecords_data, data/train/part-r-01031, 1606795937573192>,\n",
       " <Blob: tfrecords_data, data/train/part-r-01032, 1606804177766693>,\n",
       " <Blob: tfrecords_data, data/train/part-r-01033, 1606802903207420>,\n",
       " <Blob: tfrecords_data, data/train/part-r-01034, 1606803274274316>,\n",
       " <Blob: tfrecords_data, data/train/part-r-01035, 1606803156467559>,\n",
       " <Blob: tfrecords_data, data/train/part-r-01036, 1606794453067111>,\n",
       " <Blob: tfrecords_data, data/train/part-r-01037, 1606787982919498>,\n",
       " <Blob: tfrecords_data, data/train/part-r-01038, 1606794454286896>,\n",
       " <Blob: tfrecords_data, data/train/part-r-01039, 1606783393419753>,\n",
       " <Blob: tfrecords_data, data/train/part-r-01040, 1606798921374946>,\n",
       " <Blob: tfrecords_data, data/train/part-r-01041, 1606798157239631>,\n",
       " <Blob: tfrecords_data, data/train/part-r-01042, 1606835657765318>,\n",
       " <Blob: tfrecords_data, data/train/part-r-01043, 1606783056106125>,\n",
       " <Blob: tfrecords_data, data/train/part-r-01044, 1606759366734874>,\n",
       " <Blob: tfrecords_data, data/train/part-r-01045, 1606760865719246>,\n",
       " <Blob: tfrecords_data, data/train/part-r-01046, 1606800630152699>,\n",
       " <Blob: tfrecords_data, data/train/part-r-01047, 1606799697852677>,\n",
       " <Blob: tfrecords_data, data/train/part-r-01048, 1606797569349614>,\n",
       " <Blob: tfrecords_data, data/train/part-r-01049, 1606799261675962>,\n",
       " <Blob: tfrecords_data, data/train/part-r-01050, 1606805131810688>,\n",
       " <Blob: tfrecords_data, data/train/part-r-01051, 1606805274808188>,\n",
       " <Blob: tfrecords_data, data/train/part-r-01052, 1606787502487301>,\n",
       " <Blob: tfrecords_data, data/train/part-r-01053, 1606835259521445>,\n",
       " <Blob: tfrecords_data, data/train/part-r-01054, 1606790211918034>,\n",
       " <Blob: tfrecords_data, data/train/part-r-01055, 1606788377532105>,\n",
       " <Blob: tfrecords_data, data/train/part-r-01056, 1606803931265820>,\n",
       " <Blob: tfrecords_data, data/train/part-r-01057, 1606803855163701>,\n",
       " <Blob: tfrecords_data, data/train/part-r-01058, 1606802902806546>,\n",
       " <Blob: tfrecords_data, data/train/part-r-01059, 1606806036634581>,\n",
       " <Blob: tfrecords_data, data/train/part-r-01060, 1606802497062021>,\n",
       " <Blob: tfrecords_data, data/train/part-r-01061, 1606803799855233>,\n",
       " <Blob: tfrecords_data, data/train/part-r-01062, 1606784343057322>,\n",
       " <Blob: tfrecords_data, data/train/part-r-01063, 1606793860437160>,\n",
       " <Blob: tfrecords_data, data/train/part-r-01064, 1606784821532848>,\n",
       " <Blob: tfrecords_data, data/train/part-r-01065, 1606783738527600>,\n",
       " <Blob: tfrecords_data, data/train/part-r-01066, 1606805119585387>,\n",
       " <Blob: tfrecords_data, data/train/part-r-01067, 1606802647837764>,\n",
       " <Blob: tfrecords_data, data/train/part-r-01068, 1606805249272733>,\n",
       " <Blob: tfrecords_data, data/train/part-r-01069, 1606804853070145>,\n",
       " <Blob: tfrecords_data, data/train/part-r-01070, 1606797701855766>,\n",
       " <Blob: tfrecords_data, data/train/part-r-01071, 1606800102889125>,\n",
       " <Blob: tfrecords_data, data/train/part-r-01072, 1606835518474333>,\n",
       " <Blob: tfrecords_data, data/train/part-r-01073, 1606758321545873>,\n",
       " <Blob: tfrecords_data, data/train/part-r-01074, 1606761013265572>,\n",
       " <Blob: tfrecords_data, data/train/part-r-01075, 1606782785661869>,\n",
       " <Blob: tfrecords_data, data/train/part-r-01076, 1606798890536360>,\n",
       " <Blob: tfrecords_data, data/train/part-r-01077, 1606800411219080>,\n",
       " <Blob: tfrecords_data, data/train/part-r-01078, 1606800231266127>,\n",
       " <Blob: tfrecords_data, data/train/part-r-01079, 1606798226036087>,\n",
       " <Blob: tfrecords_data, data/train/part-r-01080, 1606758846145890>,\n",
       " <Blob: tfrecords_data, data/train/part-r-01081, 1606759253335296>,\n",
       " <Blob: tfrecords_data, data/train/part-r-01082, 1606799162672065>,\n",
       " <Blob: tfrecords_data, data/train/part-r-01083, 1606798236588584>,\n",
       " <Blob: tfrecords_data, data/train/part-r-01084, 1606802777872588>,\n",
       " <Blob: tfrecords_data, data/train/part-r-01085, 1606798671196301>,\n",
       " <Blob: tfrecords_data, data/train/part-r-01086, 1606761236060746>,\n",
       " <Blob: tfrecords_data, data/train/part-r-01087, 1606834988162433>,\n",
       " <Blob: tfrecords_data, data/train/part-r-01088, 1606783059475562>,\n",
       " <Blob: tfrecords_data, data/train/part-r-01089, 1606782461412054>,\n",
       " <Blob: tfrecords_data, data/train/part-r-01090, 1606790124217001>,\n",
       " <Blob: tfrecords_data, data/train/part-r-01091, 1606787778513441>,\n",
       " <Blob: tfrecords_data, data/train/part-r-01092, 1606801840636382>,\n",
       " <Blob: tfrecords_data, data/train/part-r-01093, 1606803710580986>,\n",
       " <Blob: tfrecords_data, data/train/part-r-01094, 1606804870364506>,\n",
       " <Blob: tfrecords_data, data/train/part-r-01095, 1606806040879539>,\n",
       " <Blob: tfrecords_data, data/train/part-r-01096, 1606788505457697>,\n",
       " <Blob: tfrecords_data, data/train/part-r-01097, 1606784906238936>,\n",
       " <Blob: tfrecords_data, data/train/part-r-01098, 1606797172538035>,\n",
       " <Blob: tfrecords_data, data/train/part-r-01099, 1606783598354709>,\n",
       " <Blob: tfrecords_data, data/train/part-r-01100, 1606759359802292>,\n",
       " <Blob: tfrecords_data, data/train/part-r-01101, 1606757933659004>,\n",
       " <Blob: tfrecords_data, data/train/part-r-01102, 1606798799198952>,\n",
       " <Blob: tfrecords_data, data/train/part-r-01103, 1606798089966414>,\n",
       " <Blob: tfrecords_data, data/train/part-r-01104, 1606799290688006>,\n",
       " <Blob: tfrecords_data, data/train/part-r-01105, 1606798280782128>,\n",
       " <Blob: tfrecords_data, data/train/part-r-01106, 1606802134578556>,\n",
       " <Blob: tfrecords_data, data/train/part-r-01107, 1606757930564994>,\n",
       " <Blob: tfrecords_data, data/train/part-r-01108, 1606759123130469>,\n",
       " <Blob: tfrecords_data, data/train/part-r-01109, 1606835813976623>,\n",
       " <Blob: tfrecords_data, data/train/part-r-01110, 1606794788202560>,\n",
       " <Blob: tfrecords_data, data/train/part-r-01111, 1606795508837939>,\n",
       " <Blob: tfrecords_data, data/train/part-r-01112, 1606804742464387>,\n",
       " <Blob: tfrecords_data, data/train/part-r-01113, 1606801958248236>,\n",
       " <Blob: tfrecords_data, data/train/part-r-01114, 1606802397892837>,\n",
       " <Blob: tfrecords_data, data/train/part-r-01115, 1606804353178331>,\n",
       " <Blob: tfrecords_data, data/train/part-r-01116, 1606794919572432>,\n",
       " <Blob: tfrecords_data, data/train/part-r-01117, 1606797361424755>,\n",
       " <Blob: tfrecords_data, data/train/part-r-01118, 1606797495327718>,\n",
       " <Blob: tfrecords_data, data/train/part-r-01119, 1606835675062622>,\n",
       " <Blob: tfrecords_data, data/train/part-r-01120, 1606796120652749>,\n",
       " <Blob: tfrecords_data, data/train/part-r-01121, 1606796870091620>,\n",
       " <Blob: tfrecords_data, data/train/part-r-01122, 1606804459397555>,\n",
       " <Blob: tfrecords_data, data/train/part-r-01123, 1606805277416446>,\n",
       " <Blob: tfrecords_data, data/train/part-r-01124, 1606804611531781>,\n",
       " <Blob: tfrecords_data, data/train/part-r-01125, 1606804606819612>,\n",
       " <Blob: tfrecords_data, data/train/part-r-01126, 1606796668348953>,\n",
       " <Blob: tfrecords_data, data/train/part-r-01127, 1606796463621124>,\n",
       " <Blob: tfrecords_data, data/train/part-r-01128, 1606797033791801>,\n",
       " <Blob: tfrecords_data, data/train/part-r-01129, 1606797435485576>,\n",
       " <Blob: tfrecords_data, data/train/part-r-01130, 1606782646874433>,\n",
       " <Blob: tfrecords_data, data/train/part-r-01131, 1606758982782582>,\n",
       " <Blob: tfrecords_data, data/train/part-r-01132, 1606800350591633>,\n",
       " <Blob: tfrecords_data, data/train/part-r-01133, 1606799039809278>,\n",
       " <Blob: tfrecords_data, data/train/part-r-01134, 1606797622629548>,\n",
       " <Blob: tfrecords_data, data/train/part-r-01135, 1606798632527377>,\n",
       " <Blob: tfrecords_data, data/train/part-r-01136, 1606782779968648>,\n",
       " <Blob: tfrecords_data, data/train/part-r-01137, 1606761240223742>,\n",
       " <Blob: tfrecords_data, data/train/part-r-01138, 1606759501071986>,\n",
       " <Blob: tfrecords_data, data/train/part-r-01139, 1606761059092025>,\n",
       " <Blob: tfrecords_data, data/train/part-r-01140, 1606805770375132>,\n",
       " <Blob: tfrecords_data, data/train/part-r-01141, 1606802266983067>,\n",
       " <Blob: tfrecords_data, data/train/part-r-01142, 1606799835064573>,\n",
       " <Blob: tfrecords_data, data/train/part-r-01143, 1606796287821084>,\n",
       " <Blob: tfrecords_data, data/train/part-r-01144, 1606795699212380>,\n",
       " <Blob: tfrecords_data, data/train/part-r-01145, 1606796790071123>,\n",
       " <Blob: tfrecords_data, data/train/part-r-01146, 1606803972412562>,\n",
       " <Blob: tfrecords_data, data/train/part-r-01147, 1606804126834631>,\n",
       " <Blob: tfrecords_data, data/train/part-r-01148, 1606806126660350>,\n",
       " <Blob: tfrecords_data, data/train/part-r-01149, 1606801712254093>,\n",
       " <Blob: tfrecords_data, data/train/part-r-01150, 1606800490437726>,\n",
       " <Blob: tfrecords_data, data/train/part-r-01151, 1606801162389760>,\n",
       " <Blob: tfrecords_data, data/train/part-r-01152, 1606759510106760>,\n",
       " <Blob: tfrecords_data, data/train/part-r-01153, 1606834989498355>,\n",
       " <Blob: tfrecords_data, data/train/part-r-01154, 1606835553493629>,\n",
       " <Blob: tfrecords_data, data/train/part-r-01155, 1606764120479974>,\n",
       " <Blob: tfrecords_data, data/train/part-r-01156, 1606800674421667>,\n",
       " <Blob: tfrecords_data, data/train/part-r-01157, 1606798501838851>,\n",
       " <Blob: tfrecords_data, data/train/part-r-01158, 1606798366492350>,\n",
       " <Blob: tfrecords_data, data/train/part-r-01159, 1606799879667724>,\n",
       " <Blob: tfrecords_data, data/train/part-r-01160, 1606798117162888>,\n",
       " <Blob: tfrecords_data, data/train/part-r-01161, 1606798850187840>,\n",
       " <Blob: tfrecords_data, data/train/part-r-01162, 1606758184300536>,\n",
       " <Blob: tfrecords_data, data/train/part-r-01163, 1606783330008037>,\n",
       " <Blob: tfrecords_data, data/train/part-r-01164, 1606759892610319>,\n",
       " <Blob: tfrecords_data, data/train/part-r-01165, 1606835668921707>,\n",
       " <Blob: tfrecords_data, data/train/part-r-01166, 1606801334334685>,\n",
       " <Blob: tfrecords_data, data/train/part-r-01167, 1606799763108556>,\n",
       " <Blob: tfrecords_data, data/train/part-r-01168, 1606800891124058>,\n",
       " <Blob: tfrecords_data, data/train/part-r-01169, 1606800750568661>,\n",
       " <Blob: tfrecords_data, data/train/part-r-01170, 1606803287471634>,\n",
       " <Blob: tfrecords_data, data/train/part-r-01171, 1606801827352831>,\n",
       " <Blob: tfrecords_data, data/train/part-r-01172, 1606797040685494>,\n",
       " <Blob: tfrecords_data, data/train/part-r-01173, 1606795136601890>,\n",
       " <Blob: tfrecords_data, data/train/part-r-01174, 1606795344212377>,\n",
       " <Blob: tfrecords_data, data/train/part-r-01175, 1606797359536499>,\n",
       " <Blob: tfrecords_data, data/train/part-r-01176, 1606804230819768>,\n",
       " <Blob: tfrecords_data, data/train/part-r-01177, 1606804745678825>,\n",
       " <Blob: tfrecords_data, data/train/part-r-01178, 1606804098414302>,\n",
       " <Blob: tfrecords_data, data/train/part-r-01179, 1606805409879536>,\n",
       " <Blob: tfrecords_data, data/train/part-r-01180, 1606796068662027>,\n",
       " <Blob: tfrecords_data, data/train/part-r-01181, 1606795479001954>,\n",
       " <Blob: tfrecords_data, data/train/part-r-01182, 1606805907820512>,\n",
       " <Blob: tfrecords_data, data/train/part-r-01183, 1606804884737503>,\n",
       " <Blob: tfrecords_data, data/train/part-r-01184, 1606804305194659>,\n",
       " <Blob: tfrecords_data, data/train/part-r-01185, 1606805644482824>,\n",
       " <Blob: tfrecords_data, data/train/part-r-01186, 1606796481556084>,\n",
       " <Blob: tfrecords_data, data/train/part-r-01187, 1606796414354223>,\n",
       " <Blob: tfrecords_data, data/train/part-r-01188, 1606796663606408>,\n",
       " <Blob: tfrecords_data, data/train/part-r-01189, 1606799967223884>,\n",
       " <Blob: tfrecords_data, data/train/part-r-01190, 1606835121965021>,\n",
       " <Blob: tfrecords_data, data/train/part-r-01191, 1606764349113149>,\n",
       " <Blob: tfrecords_data, data/train/part-r-01192, 1606799648907723>,\n",
       " <Blob: tfrecords_data, data/train/part-r-01193, 1606800216114686>,\n",
       " <Blob: tfrecords_data, data/train/part-r-01194, 1606798534918212>,\n",
       " <Blob: tfrecords_data, data/train/part-r-01195, 1606797869047690>,\n",
       " <Blob: tfrecords_data, data/train/part-r-01196, 1606758863333392>,\n",
       " <Blob: tfrecords_data, data/train/part-r-01197, 1606758585752006>,\n",
       " <Blob: tfrecords_data, data/train/part-r-01198, 1606783194699752>,\n",
       " <Blob: tfrecords_data, data/train/part-r-01199, 1606759910516187>,\n",
       " <Blob: tfrecords_data, data/val/_SUCCESS, 1606784344803225>,\n",
       " <Blob: tfrecords_data, data/val/part-r-00000, 1606794548084782>,\n",
       " <Blob: tfrecords_data, data/val/part-r-00001, 1606789437518237>,\n",
       " <Blob: tfrecords_data, data/val/part-r-00002, 1606788098644941>,\n",
       " <Blob: tfrecords_data, data/val/part-r-00003, 1606793998744277>,\n",
       " <Blob: tfrecords_data, data/val/part-r-00004, 1606788685661071>,\n",
       " <Blob: tfrecords_data, data/val/part-r-00005, 1606787474001029>,\n",
       " <Blob: tfrecords_data, data/val/part-r-00006, 1606787127176406>,\n",
       " <Blob: tfrecords_data, data/val/part-r-00007, 1606783892681727>,\n",
       " <Blob: tfrecords_data, data/val/part-r-00008, 1606783875129379>,\n",
       " <Blob: tfrecords_data, data/val/part-r-00009, 1606790291349078>,\n",
       " <Blob: tfrecords_data, data/val/part-r-00010, 1606787733582645>,\n",
       " <Blob: tfrecords_data, data/val/part-r-00011, 1606794449606573>,\n",
       " <Blob: tfrecords_data, data/val/part-r-00012, 1606836088287010>,\n",
       " <Blob: tfrecords_data, data/val/part-r-00013, 1606789917458309>,\n",
       " <Blob: tfrecords_data, data/val/part-r-00014, 1606784039937916>,\n",
       " <Blob: tfrecords_data, data/val/part-r-00015, 1606784717122282>,\n",
       " <Blob: tfrecords_data, data/val/part-r-00016, 1606783463891181>,\n",
       " <Blob: tfrecords_data, data/val/part-r-00017, 1606784802265722>,\n",
       " <Blob: tfrecords_data, data/val/part-r-00018, 1606835872460220>,\n",
       " <Blob: tfrecords_data, data/val/part-r-00019, 1606787122192706>,\n",
       " <Blob: tfrecords_data, data/val/part-r-00020, 1606835853866525>,\n",
       " <Blob: tfrecords_data, data/val/part-r-00021, 1606835917836031>,\n",
       " <Blob: tfrecords_data, data/val/part-r-00022, 1606793872236988>,\n",
       " <Blob: tfrecords_data, data/val/part-r-00023, 1606835881346746>,\n",
       " <Blob: tfrecords_data, data/val/part-r-00024, 1606794124997096>,\n",
       " <Blob: tfrecords_data, data/val/part-r-00025, 1606783522001058>,\n",
       " <Blob: tfrecords_data, data/val/part-r-00026, 1606835969048771>,\n",
       " <Blob: tfrecords_data, data/val/part-r-00027, 1606792527748527>,\n",
       " <Blob: tfrecords_data, data/val/part-r-00028, 1606789289631272>,\n",
       " <Blob: tfrecords_data, data/val/part-r-00029, 1606794566425084>,\n",
       " <Blob: tfrecords_data, data/val/part-r-00030, 1606789866131724>,\n",
       " <Blob: tfrecords_data, data/val/part-r-00031, 1606783275162503>,\n",
       " <Blob: tfrecords_data, data/val/part-r-00032, 1606835952038452>,\n",
       " <Blob: tfrecords_data, data/val/part-r-00033, 1606787300972947>,\n",
       " <Blob: tfrecords_data, data/val/part-r-00034, 1606836084200067>,\n",
       " <Blob: tfrecords_data, data/val/part-r-00035, 1606784196335990>,\n",
       " <Blob: tfrecords_data, data/val/part-r-00036, 1606790431836556>,\n",
       " <Blob: tfrecords_data, data/val/part-r-00037, 1606836016788751>,\n",
       " <Blob: tfrecords_data, data/val/part-r-00038, 1606787707717861>,\n",
       " <Blob: tfrecords_data, data/val/part-r-00039, 1606788186714329>,\n",
       " <Blob: tfrecords_data, data/val/part-r-00040, 1606784520393221>,\n",
       " <Blob: tfrecords_data, data/val/part-r-00041, 1606794637091560>,\n",
       " <Blob: tfrecords_data, data/val/part-r-00042, 1606788971027995>,\n",
       " <Blob: tfrecords_data, data/val/part-r-00043, 1606836046464022>,\n",
       " <Blob: tfrecords_data, data/val/part-r-00044, 1606788845552310>,\n",
       " <Blob: tfrecords_data, data/val/part-r-00045, 1606836031987079>,\n",
       " <Blob: tfrecords_data, data/val/part-r-00046, 1606792524337541>,\n",
       " <Blob: tfrecords_data, data/val/part-r-00047, 1606789592151709>,\n",
       " <Blob: tfrecords_data, data/val/part-r-00048, 1606789739287346>,\n",
       " <Blob: tfrecords_data, data/val/part-r-00049, 1606785064561890>,\n",
       " <Blob: tfrecords_data, data/val/part-r-00050, 1606794355974300>,\n",
       " <Blob: tfrecords_data, data/val/part-r-00051, 1606784915456586>,\n",
       " <Blob: tfrecords_data, data/val/part-r-00052, 1606797298605607>,\n",
       " <Blob: tfrecords_data, data/val/part-r-00053, 1606836187749519>,\n",
       " <Blob: tfrecords_data, data/val/part-r-00054, 1606836163232827>,\n",
       " <Blob: tfrecords_data, data/val/part-r-00055, 1606787615968461>,\n",
       " <Blob: tfrecords_data, data/val/part-r-00056, 1606784026093090>,\n",
       " <Blob: tfrecords_data, data/val/part-r-00057, 1606794566962930>,\n",
       " <Blob: tfrecords_data, data/val/part-r-00058, 1606836123265703>,\n",
       " <Blob: tfrecords_data, data/val/part-r-00059, 1606788698845608>,\n",
       " <Blob: tfrecords_data, data/val/part-r-00060, 1606787128417406>,\n",
       " <Blob: tfrecords_data, data/val/part-r-00061, 1606783894232334>,\n",
       " <Blob: tfrecords_data, data/val/part-r-00062, 1606793750539296>,\n",
       " <Blob: tfrecords_data, data/val/part-r-00063, 1606789539668977>,\n",
       " <Blob: tfrecords_data, data/val/part-r-00064, 1606787390462951>,\n",
       " <Blob: tfrecords_data, data/val/part-r-00065, 1606784976705554>,\n",
       " <Blob: tfrecords_data, data/val/part-r-00066, 1606794005712542>,\n",
       " <Blob: tfrecords_data, data/val/part-r-00067, 1606794251577312>,\n",
       " <Blob: tfrecords_data, data/val/part-r-00068, 1606789130764112>,\n",
       " <Blob: tfrecords_data, data/val/part-r-00069, 1606836151837221>,\n",
       " <Blob: tfrecords_data, data/val/part-r-00070, 1606784651185296>,\n",
       " <Blob: tfrecords_data, data/val/part-r-00071, 1606788844986378>,\n",
       " <Blob: tfrecords_data, data/val/part-r-00072, 1606789586052674>,\n",
       " <Blob: tfrecords_data, data/val/part-r-00073, 1606787621844154>,\n",
       " <Blob: tfrecords_data, data/val/part-r-00074, 1606783813585570>,\n",
       " <Blob: tfrecords_data, data/val/part-r-00075, 1606784644242742>,\n",
       " <Blob: tfrecords_data, data/val/part-r-00076, 1606789128881185>,\n",
       " <Blob: tfrecords_data, data/val/part-r-00077, 1606793779274878>,\n",
       " <Blob: tfrecords_data, data/val/part-r-00078, 1606783524435350>,\n",
       " <Blob: tfrecords_data, data/val/part-r-00079, 1606836195481295>,\n",
       " <Blob: tfrecords_data, data/val/part-r-00080, 1606787498749550>,\n",
       " <Blob: tfrecords_data, data/val/part-r-00081, 1606789834441416>,\n",
       " <Blob: tfrecords_data, data/val/part-r-00082, 1606792491536323>,\n",
       " <Blob: tfrecords_data, data/val/part-r-00083, 1606783591015296>,\n",
       " <Blob: tfrecords_data, data/val/part-r-00084, 1606784496907079>,\n",
       " <Blob: tfrecords_data, data/val/part-r-00085, 1606787285674869>,\n",
       " <Blob: tfrecords_data, data/val/part-r-00086, 1606789699904985>,\n",
       " <Blob: tfrecords_data, data/val/part-r-00087, 1606788974146172>,\n",
       " <Blob: tfrecords_data, data/val/part-r-00088, 1606788850467701>,\n",
       " <Blob: tfrecords_data, data/val/part-r-00089, 1606784300694969>,\n",
       " <Blob: tfrecords_data, data/val/part-r-00090, 1606794252342555>,\n",
       " <Blob: tfrecords_data, data/val/part-r-00091, 1606790355130089>,\n",
       " <Blob: tfrecords_data, data/val/part-r-00092, 1606794140610709>,\n",
       " <Blob: tfrecords_data, data/val/part-r-00093, 1606783462554869>,\n",
       " <Blob: tfrecords_data, data/val/part-r-00094, 1606783813832172>,\n",
       " <Blob: tfrecords_data, data/val/part-r-00095, 1606785147119443>,\n",
       " <Blob: tfrecords_data, data/val/part-r-00096, 1606784108901012>,\n",
       " <Blob: tfrecords_data, data/val/part-r-00097, 1606787829142965>,\n",
       " <Blob: tfrecords_data, data/val/part-r-00098, 1606787567069008>,\n",
       " <Blob: tfrecords_data, data/val/part-r-00099, 1606784885208858>,\n",
       " <Blob: tfrecords_data, models/droughtwatch/v1/model123.json, 1606917162996203>,\n",
       " <Blob: tfrecords_data, models/droughtwatch/v1_CM/model.h5, 1606918052200328>,\n",
       " <Blob: tfrecords_data, models/droughtwatch/v1_CM/model.json, 1606918013838199>,\n",
       " <Blob: tfrecords_data, models/efficientnet_model/v1_CM/model.h5, 1606948464057228>,\n",
       " <Blob: tfrecords_data, models/efficientnet_model/v1_CM/model.json, 1606948460792075>,\n",
       " <Blob: tfrecords_data, packages/1aeef1ee7f85b0aec8eefa80911463b6e4b5f95e6b7049e21eee6b986f18ce47/droughtwatch-1.0.tar.gz, 1606820627766165>,\n",
       " <Blob: tfrecords_data, packages/445342077ec13bbeaa84cd9b476bbd92b38cce911788a3b700f350012c472d59/droughtwatch-1.0.tar.gz, 1606925405078890>,\n",
       " <Blob: tfrecords_data, packages/4864a37a900ae2a86a32d2073e37c472cb305aa48d6ea4fd1c767f532952558b/droughtwatch-1.0.tar.gz, 1606923734934445>,\n",
       " <Blob: tfrecords_data, packages/4bc71a46b9e41c36cfced492c87921694567a587ec5ff2c7e571b5bffdc84e06/droughtwatch-1.0.tar.gz, 1606929529801882>,\n",
       " <Blob: tfrecords_data, packages/54c55debd6689ea76121518a3ccb8d9231acc34e2839d3a3d6a404565397fc59/droughtwatch-1.0.tar.gz, 1606934380315187>,\n",
       " <Blob: tfrecords_data, packages/559bdf1cc92aa1d9cc83171497a9a1fdc8aa70fa6e6fb7ad6594a0ab155245e2/droughtwatch-1.0.tar.gz, 1606959529060986>,\n",
       " <Blob: tfrecords_data, packages/64695ab626153b2239646c4bd1680df30b4e8c68bc510825ab1d26219a98311c/droughtwatch-1.0.tar.gz, 1606931534543112>,\n",
       " <Blob: tfrecords_data, packages/66ea55c4b55a15c7a1a6c049bc6b264aaa049c3c59d5e1e9bfb6c88156d1c7fb/droughtwatch-1.0.tar.gz, 1606923616608016>,\n",
       " <Blob: tfrecords_data, packages/80b8f114dd5b52e24dcd9def5ccaf90466272eee0970530d4e68880a85abcc8e/droughtwatch-1.0.tar.gz, 1606948001330291>,\n",
       " <Blob: tfrecords_data, packages/84fb578a61e476dde1cc085561ddb1bffc71ae5fc616be2471220d35ed3844f6/droughtwatch-1.0.tar.gz, 1606926879385866>,\n",
       " <Blob: tfrecords_data, packages/88652135809dc41da518f3a670ecf0248bbf0fd7082a442f9a4bd6913a5c62c1/droughtwatch-1.0.tar.gz, 1606925825595671>,\n",
       " <Blob: tfrecords_data, packages/9ee84ed82c9664f6f4cf1626da1f49018d3f6834d175fc07a524801dc50a3956/droughtwatch-1.0.tar.gz, 1606948863542967>,\n",
       " <Blob: tfrecords_data, packages/a3de2362c706ed9f8488d5933493d74c3a69652f28a7d632e8703a12ea6140d7/droughtwatch-1.0.tar.gz, 1606960874590444>,\n",
       " <Blob: tfrecords_data, packages/a6aa0a8371161eaef1e0e6bdb28415721dbebfeaa206f7bd5c7dd7da84ca2aff/droughtwatch-1.0.tar.gz, 1606939609571298>,\n",
       " <Blob: tfrecords_data, packages/b17072b13b48d9cabbfc238195bc78d18634c35359983aaa4ebfc11dc45ba944/droughtwatch-1.0.tar.gz, 1606934865220704>,\n",
       " <Blob: tfrecords_data, packages/bdb8831478f76080749c68e65f2b1a641e5a0741b87fe972d751cabcda5b3b3b/droughtwatch-1.0.tar.gz, 1606934437172123>,\n",
       " <Blob: tfrecords_data, packages/c99fd935d157ddb4c7fab3b7c1efd12d73cd4600dca6c30bdb8d87da1c0b6640/droughtwatch-1.0.tar.gz, 1606935913547650>,\n",
       " <Blob: tfrecords_data, packages/ccf818ba60ccd1a582dc917717e7cc8c03b7711990d83decbb3c47b49a1e9658/droughtwatch-1.0.tar.gz, 1606829900399680>,\n",
       " <Blob: tfrecords_data, packages/d6efc36b59a897fb5b3653546ca70b13f1d449e7c760e9d77c7435b3014d2a88/droughtwatch-1.0.tar.gz, 1606933190971035>,\n",
       " <Blob: tfrecords_data, packages/d7617be2306df42a1bcf4df7a6bde2226374a99539d60559679b2d71c83981c7/droughtwatch-1.0.tar.gz, 1606929897179465>,\n",
       " <Blob: tfrecords_data, packages/db6c1fdf4114a03c38a2e70dce5547574a7dccb62b57c9834549368062416188/droughtwatch-1.0.tar.gz, 1606829030289153>,\n",
       " <Blob: tfrecords_data, packages/e118cb4826907fa6f0f19e20cf472dacd8d093a333390b0fad96d0dc5e243037/droughtwatch-1.0.tar.gz, 1606918256281378>,\n",
       " <Blob: tfrecords_data, packages/ef204b9a039d638ac3d47255a222216ea70e906bd66062ab7a4d4afff9d79ce5/droughtwatch-1.0.tar.gz, 1606960185542221>]"
      ]
     },
     "execution_count": 7,
     "metadata": {},
     "output_type": "execute_result"
    }
   ],
   "source": [
    "list(client.list_blobs(bucket))"
   ]
  },
  {
   "cell_type": "code",
   "execution_count": 8,
   "metadata": {
    "ExecuteTime": {
     "end_time": "2020-12-03T08:55:39.288178Z",
     "start_time": "2020-12-03T08:55:39.275165Z"
    }
   },
   "outputs": [],
   "source": [
    "data0 = 'data/train/part-r-00000'"
   ]
  },
  {
   "cell_type": "code",
   "execution_count": 9,
   "metadata": {
    "ExecuteTime": {
     "end_time": "2020-12-03T08:55:39.375083Z",
     "start_time": "2020-12-03T08:55:39.294395Z"
    }
   },
   "outputs": [],
   "source": [
    "blob = bucket.get_blob(data0)"
   ]
  },
  {
   "cell_type": "code",
   "execution_count": 10,
   "metadata": {
    "ExecuteTime": {
     "end_time": "2020-12-03T08:55:39.402114Z",
     "start_time": "2020-12-03T08:55:39.382761Z"
    }
   },
   "outputs": [
    {
     "data": {
      "text/plain": [
       "google.cloud.storage.blob.Blob"
      ]
     },
     "execution_count": 10,
     "metadata": {},
     "output_type": "execute_result"
    }
   ],
   "source": [
    "type(blob)"
   ]
  },
  {
   "cell_type": "code",
   "execution_count": 11,
   "metadata": {
    "ExecuteTime": {
     "end_time": "2020-12-03T08:55:50.912875Z",
     "start_time": "2020-12-03T08:55:39.409457Z"
    }
   },
   "outputs": [],
   "source": [
    "blob = bucket.blob(data0)\n",
    "blobstring = blob.download_as_string()"
   ]
  },
  {
   "cell_type": "code",
   "execution_count": 12,
   "metadata": {
    "ExecuteTime": {
     "end_time": "2020-12-03T08:56:12.398789Z",
     "start_time": "2020-12-03T08:56:12.355920Z"
    }
   },
   "outputs": [
    {
     "ename": "UnicodeDecodeError",
     "evalue": "'utf-8' codec can't decode byte 0x87 in position 0: invalid start byte",
     "output_type": "error",
     "traceback": [
      "\u001b[0;31m---------------------------------------------------------------------------\u001b[0m",
      "\u001b[0;31mUnicodeDecodeError\u001b[0m                        Traceback (most recent call last)",
      "\u001b[0;32m<ipython-input-12-6fed4fe14591>\u001b[0m in \u001b[0;36m<module>\u001b[0;34m\u001b[0m\n\u001b[0;32m----> 1\u001b[0;31m \u001b[0mx\u001b[0m \u001b[0;34m=\u001b[0m \u001b[0mblobstring\u001b[0m\u001b[0;34m.\u001b[0m\u001b[0mdecode\u001b[0m\u001b[0;34m(\u001b[0m\u001b[0;34m)\u001b[0m\u001b[0;34m\u001b[0m\u001b[0;34m\u001b[0m\u001b[0m\n\u001b[0m",
      "\u001b[0;31mUnicodeDecodeError\u001b[0m: 'utf-8' codec can't decode byte 0x87 in position 0: invalid start byte"
     ]
    }
   ],
   "source": [
    "x = blobstring.decode()"
   ]
  },
  {
   "cell_type": "code",
   "execution_count": 14,
   "metadata": {
    "ExecuteTime": {
     "end_time": "2020-12-03T09:02:19.476400Z",
     "start_time": "2020-12-03T09:02:10.456826Z"
    }
   },
   "outputs": [],
   "source": [
    "blobbytes = blob.download_as_bytes()"
   ]
  },
  {
   "cell_type": "code",
   "execution_count": 16,
   "metadata": {
    "ExecuteTime": {
     "end_time": "2020-12-03T09:05:22.132629Z",
     "start_time": "2020-12-03T09:05:05.532499Z"
    }
   },
   "outputs": [],
   "source": [
    "with open(\"testfile\", \"wb\") as file_obj:\n",
    "    blob.download_to_file(file_obj)"
   ]
  },
  {
   "cell_type": "code",
   "execution_count": 17,
   "metadata": {
    "ExecuteTime": {
     "end_time": "2020-12-03T09:09:07.080017Z",
     "start_time": "2020-12-03T09:09:07.059315Z"
    }
   },
   "outputs": [],
   "source": [
    "def parse_tfrecords(filelist, batch_size, buffer_size, include_viz=False):\n",
    "  # try a subset of possible bands\n",
    "    def _parse_(serialized_example, keylist=['B2', 'B3', 'B4', 'B5', 'B6', 'B7', 'B8']):\n",
    "        example = tf.io.parse_single_example(serialized_example, features)\n",
    "\n",
    "        def getband(example_key):\n",
    "            img = tf.io.decode_raw(example_key, tf.uint8)\n",
    "            return tf.reshape(img[:IMG_DIM**2], shape=(IMG_DIM, IMG_DIM, 1))\n",
    "\n",
    "        bandlist = [getband(example[key]) for key in keylist]\n",
    "        # combine bands into tensor\n",
    "        image = tf.concat(bandlist, -1)\n",
    "\n",
    "        # one-hot encode ground truth labels\n",
    "        label = tf.cast(example['label'], tf.int32)\n",
    "        label = tf.one_hot(label, NUM_CLASSES)\n",
    "\n",
    "        return {'image': image}, label\n",
    "\n",
    "    tfrecord_dataset = tf.data.TFRecordDataset(filelist)\n",
    "    tfrecord_dataset = tfrecord_dataset.map(lambda x:_parse_(x)).shuffle(buffer_size).repeat(-1).batch(batch_size)\n",
    "    tfrecord_iterator = tfrecord_dataset.make_one_shot_iterator()\n",
    "    image, label = tfrecord_iterator.get_next()\n",
    "    return image, label"
   ]
  },
  {
   "cell_type": "code",
   "execution_count": 18,
   "metadata": {
    "ExecuteTime": {
     "end_time": "2020-12-03T09:10:20.603767Z",
     "start_time": "2020-12-03T09:10:20.598506Z"
    }
   },
   "outputs": [],
   "source": [
    "def file_list_from_folder(folder, data_path):\n",
    "  folderpath = os.path.join(data_path, folder)\n",
    "  filelist = []\n",
    "  for filename in os.listdir(folderpath):\n",
    "      if filename.startswith('part-') and not filename.endswith('gstmp'):\n",
    "          filelist.append(os.path.join(folderpath, filename))\n",
    "  return filelist"
   ]
  },
  {
   "cell_type": "code",
   "execution_count": 20,
   "metadata": {
    "ExecuteTime": {
     "end_time": "2020-12-03T09:11:59.027913Z",
     "start_time": "2020-12-03T09:11:59.020207Z"
    }
   },
   "outputs": [
    {
     "data": {
      "text/plain": [
       "<_io.BufferedWriter name='testfile'>"
      ]
     },
     "execution_count": 20,
     "metadata": {},
     "output_type": "execute_result"
    }
   ],
   "source": [
    "file_obj"
   ]
  },
  {
   "cell_type": "code",
   "execution_count": 21,
   "metadata": {
    "ExecuteTime": {
     "end_time": "2020-12-03T09:12:05.038834Z",
     "start_time": "2020-12-03T09:12:05.035574Z"
    }
   },
   "outputs": [],
   "source": [
    "filelist = [file_obj]"
   ]
  },
  {
   "cell_type": "code",
   "execution_count": 29,
   "metadata": {
    "ExecuteTime": {
     "end_time": "2020-12-03T09:15:17.166697Z",
     "start_time": "2020-12-03T09:15:17.138639Z"
    },
    "collapsed": true
   },
   "outputs": [
    {
     "ename": "ValueError",
     "evalue": "Attempt to convert a value (<_io.BufferedWriter name='testfile'>) with an unsupported type (<class '_io.BufferedWriter'>) to a Tensor.",
     "output_type": "error",
     "traceback": [
      "\u001b[0;31m---------------------------------------------------------------------------\u001b[0m",
      "\u001b[0;31mValueError\u001b[0m                                Traceback (most recent call last)",
      "\u001b[0;32m<ipython-input-29-987d7b70bfcf>\u001b[0m in \u001b[0;36m<module>\u001b[0;34m\u001b[0m\n\u001b[0;32m----> 1\u001b[0;31m \u001b[0mtf\u001b[0m\u001b[0;34m.\u001b[0m\u001b[0mconvert_to_tensor\u001b[0m\u001b[0;34m(\u001b[0m\u001b[0mfile_obj\u001b[0m\u001b[0;34m)\u001b[0m\u001b[0;34m\u001b[0m\u001b[0;34m\u001b[0m\u001b[0m\n\u001b[0m",
      "\u001b[0;32m~/.pyenv/versions/3.8.5/envs/droughtwatch/lib/python3.8/site-packages/tensorflow/python/framework/ops.py\u001b[0m in \u001b[0;36mconvert_to_tensor_v1\u001b[0;34m(value, dtype, name, preferred_dtype, dtype_hint)\u001b[0m\n\u001b[1;32m   1314\u001b[0m   preferred_dtype = deprecation.deprecated_argument_lookup(\n\u001b[1;32m   1315\u001b[0m       \"dtype_hint\", dtype_hint, \"preferred_dtype\", preferred_dtype)\n\u001b[0;32m-> 1316\u001b[0;31m   \u001b[0;32mreturn\u001b[0m \u001b[0mconvert_to_tensor_v2\u001b[0m\u001b[0;34m(\u001b[0m\u001b[0mvalue\u001b[0m\u001b[0;34m,\u001b[0m \u001b[0mdtype\u001b[0m\u001b[0;34m,\u001b[0m \u001b[0mpreferred_dtype\u001b[0m\u001b[0;34m,\u001b[0m \u001b[0mname\u001b[0m\u001b[0;34m)\u001b[0m\u001b[0;34m\u001b[0m\u001b[0;34m\u001b[0m\u001b[0m\n\u001b[0m\u001b[1;32m   1317\u001b[0m \u001b[0;34m\u001b[0m\u001b[0m\n\u001b[1;32m   1318\u001b[0m \u001b[0;34m\u001b[0m\u001b[0m\n",
      "\u001b[0;32m~/.pyenv/versions/3.8.5/envs/droughtwatch/lib/python3.8/site-packages/tensorflow/python/framework/ops.py\u001b[0m in \u001b[0;36mconvert_to_tensor_v2\u001b[0;34m(value, dtype, dtype_hint, name)\u001b[0m\n\u001b[1;32m   1375\u001b[0m     \u001b[0mValueError\u001b[0m\u001b[0;34m:\u001b[0m \u001b[0mIf\u001b[0m \u001b[0mthe\u001b[0m\u001b[0;31m \u001b[0m\u001b[0;31m`\u001b[0m\u001b[0mvalue\u001b[0m\u001b[0;31m`\u001b[0m \u001b[0;32mis\u001b[0m \u001b[0ma\u001b[0m \u001b[0mtensor\u001b[0m \u001b[0;32mnot\u001b[0m \u001b[0mof\u001b[0m \u001b[0mgiven\u001b[0m\u001b[0;31m \u001b[0m\u001b[0;31m`\u001b[0m\u001b[0mdtype\u001b[0m\u001b[0;31m`\u001b[0m \u001b[0;32min\u001b[0m \u001b[0mgraph\u001b[0m \u001b[0mmode\u001b[0m\u001b[0;34m.\u001b[0m\u001b[0;34m\u001b[0m\u001b[0;34m\u001b[0m\u001b[0m\n\u001b[1;32m   1376\u001b[0m   \"\"\"\n\u001b[0;32m-> 1377\u001b[0;31m   return convert_to_tensor(\n\u001b[0m\u001b[1;32m   1378\u001b[0m       \u001b[0mvalue\u001b[0m\u001b[0;34m=\u001b[0m\u001b[0mvalue\u001b[0m\u001b[0;34m,\u001b[0m\u001b[0;34m\u001b[0m\u001b[0;34m\u001b[0m\u001b[0m\n\u001b[1;32m   1379\u001b[0m       \u001b[0mdtype\u001b[0m\u001b[0;34m=\u001b[0m\u001b[0mdtype\u001b[0m\u001b[0;34m,\u001b[0m\u001b[0;34m\u001b[0m\u001b[0;34m\u001b[0m\u001b[0m\n",
      "\u001b[0;32m~/.pyenv/versions/3.8.5/envs/droughtwatch/lib/python3.8/site-packages/tensorflow/python/framework/ops.py\u001b[0m in \u001b[0;36mconvert_to_tensor\u001b[0;34m(value, dtype, name, as_ref, preferred_dtype, dtype_hint, ctx, accepted_result_types)\u001b[0m\n\u001b[1;32m   1497\u001b[0m \u001b[0;34m\u001b[0m\u001b[0m\n\u001b[1;32m   1498\u001b[0m     \u001b[0;32mif\u001b[0m \u001b[0mret\u001b[0m \u001b[0;32mis\u001b[0m \u001b[0;32mNone\u001b[0m\u001b[0;34m:\u001b[0m\u001b[0;34m\u001b[0m\u001b[0;34m\u001b[0m\u001b[0m\n\u001b[0;32m-> 1499\u001b[0;31m       \u001b[0mret\u001b[0m \u001b[0;34m=\u001b[0m \u001b[0mconversion_func\u001b[0m\u001b[0;34m(\u001b[0m\u001b[0mvalue\u001b[0m\u001b[0;34m,\u001b[0m \u001b[0mdtype\u001b[0m\u001b[0;34m=\u001b[0m\u001b[0mdtype\u001b[0m\u001b[0;34m,\u001b[0m \u001b[0mname\u001b[0m\u001b[0;34m=\u001b[0m\u001b[0mname\u001b[0m\u001b[0;34m,\u001b[0m \u001b[0mas_ref\u001b[0m\u001b[0;34m=\u001b[0m\u001b[0mas_ref\u001b[0m\u001b[0;34m)\u001b[0m\u001b[0;34m\u001b[0m\u001b[0;34m\u001b[0m\u001b[0m\n\u001b[0m\u001b[1;32m   1500\u001b[0m \u001b[0;34m\u001b[0m\u001b[0m\n\u001b[1;32m   1501\u001b[0m     \u001b[0;32mif\u001b[0m \u001b[0mret\u001b[0m \u001b[0;32mis\u001b[0m \u001b[0mNotImplemented\u001b[0m\u001b[0;34m:\u001b[0m\u001b[0;34m\u001b[0m\u001b[0;34m\u001b[0m\u001b[0m\n",
      "\u001b[0;32m~/.pyenv/versions/3.8.5/envs/droughtwatch/lib/python3.8/site-packages/tensorflow/python/framework/constant_op.py\u001b[0m in \u001b[0;36m_constant_tensor_conversion_function\u001b[0;34m(v, dtype, name, as_ref)\u001b[0m\n\u001b[1;32m    336\u001b[0m                                          as_ref=False):\n\u001b[1;32m    337\u001b[0m   \u001b[0m_\u001b[0m \u001b[0;34m=\u001b[0m \u001b[0mas_ref\u001b[0m\u001b[0;34m\u001b[0m\u001b[0;34m\u001b[0m\u001b[0m\n\u001b[0;32m--> 338\u001b[0;31m   \u001b[0;32mreturn\u001b[0m \u001b[0mconstant\u001b[0m\u001b[0;34m(\u001b[0m\u001b[0mv\u001b[0m\u001b[0;34m,\u001b[0m \u001b[0mdtype\u001b[0m\u001b[0;34m=\u001b[0m\u001b[0mdtype\u001b[0m\u001b[0;34m,\u001b[0m \u001b[0mname\u001b[0m\u001b[0;34m=\u001b[0m\u001b[0mname\u001b[0m\u001b[0;34m)\u001b[0m\u001b[0;34m\u001b[0m\u001b[0;34m\u001b[0m\u001b[0m\n\u001b[0m\u001b[1;32m    339\u001b[0m \u001b[0;34m\u001b[0m\u001b[0m\n\u001b[1;32m    340\u001b[0m \u001b[0;34m\u001b[0m\u001b[0m\n",
      "\u001b[0;32m~/.pyenv/versions/3.8.5/envs/droughtwatch/lib/python3.8/site-packages/tensorflow/python/framework/constant_op.py\u001b[0m in \u001b[0;36mconstant\u001b[0;34m(value, dtype, shape, name)\u001b[0m\n\u001b[1;32m    261\u001b[0m     \u001b[0mValueError\u001b[0m\u001b[0;34m:\u001b[0m \u001b[0;32mif\u001b[0m \u001b[0mcalled\u001b[0m \u001b[0mon\u001b[0m \u001b[0ma\u001b[0m \u001b[0msymbolic\u001b[0m \u001b[0mtensor\u001b[0m\u001b[0;34m.\u001b[0m\u001b[0;34m\u001b[0m\u001b[0;34m\u001b[0m\u001b[0m\n\u001b[1;32m    262\u001b[0m   \"\"\"\n\u001b[0;32m--> 263\u001b[0;31m   return _constant_impl(value, dtype, shape, name, verify_shape=False,\n\u001b[0m\u001b[1;32m    264\u001b[0m                         allow_broadcast=True)\n\u001b[1;32m    265\u001b[0m \u001b[0;34m\u001b[0m\u001b[0m\n",
      "\u001b[0;32m~/.pyenv/versions/3.8.5/envs/droughtwatch/lib/python3.8/site-packages/tensorflow/python/framework/constant_op.py\u001b[0m in \u001b[0;36m_constant_impl\u001b[0;34m(value, dtype, shape, name, verify_shape, allow_broadcast)\u001b[0m\n\u001b[1;32m    273\u001b[0m       \u001b[0;32mwith\u001b[0m \u001b[0mtrace\u001b[0m\u001b[0;34m.\u001b[0m\u001b[0mTrace\u001b[0m\u001b[0;34m(\u001b[0m\u001b[0;34m\"tf.constant\"\u001b[0m\u001b[0;34m)\u001b[0m\u001b[0;34m:\u001b[0m\u001b[0;34m\u001b[0m\u001b[0;34m\u001b[0m\u001b[0m\n\u001b[1;32m    274\u001b[0m         \u001b[0;32mreturn\u001b[0m \u001b[0m_constant_eager_impl\u001b[0m\u001b[0;34m(\u001b[0m\u001b[0mctx\u001b[0m\u001b[0;34m,\u001b[0m \u001b[0mvalue\u001b[0m\u001b[0;34m,\u001b[0m \u001b[0mdtype\u001b[0m\u001b[0;34m,\u001b[0m \u001b[0mshape\u001b[0m\u001b[0;34m,\u001b[0m \u001b[0mverify_shape\u001b[0m\u001b[0;34m)\u001b[0m\u001b[0;34m\u001b[0m\u001b[0;34m\u001b[0m\u001b[0m\n\u001b[0;32m--> 275\u001b[0;31m     \u001b[0;32mreturn\u001b[0m \u001b[0m_constant_eager_impl\u001b[0m\u001b[0;34m(\u001b[0m\u001b[0mctx\u001b[0m\u001b[0;34m,\u001b[0m \u001b[0mvalue\u001b[0m\u001b[0;34m,\u001b[0m \u001b[0mdtype\u001b[0m\u001b[0;34m,\u001b[0m \u001b[0mshape\u001b[0m\u001b[0;34m,\u001b[0m \u001b[0mverify_shape\u001b[0m\u001b[0;34m)\u001b[0m\u001b[0;34m\u001b[0m\u001b[0;34m\u001b[0m\u001b[0m\n\u001b[0m\u001b[1;32m    276\u001b[0m \u001b[0;34m\u001b[0m\u001b[0m\n\u001b[1;32m    277\u001b[0m   \u001b[0mg\u001b[0m \u001b[0;34m=\u001b[0m \u001b[0mops\u001b[0m\u001b[0;34m.\u001b[0m\u001b[0mget_default_graph\u001b[0m\u001b[0;34m(\u001b[0m\u001b[0;34m)\u001b[0m\u001b[0;34m\u001b[0m\u001b[0;34m\u001b[0m\u001b[0m\n",
      "\u001b[0;32m~/.pyenv/versions/3.8.5/envs/droughtwatch/lib/python3.8/site-packages/tensorflow/python/framework/constant_op.py\u001b[0m in \u001b[0;36m_constant_eager_impl\u001b[0;34m(ctx, value, dtype, shape, verify_shape)\u001b[0m\n\u001b[1;32m    298\u001b[0m \u001b[0;32mdef\u001b[0m \u001b[0m_constant_eager_impl\u001b[0m\u001b[0;34m(\u001b[0m\u001b[0mctx\u001b[0m\u001b[0;34m,\u001b[0m \u001b[0mvalue\u001b[0m\u001b[0;34m,\u001b[0m \u001b[0mdtype\u001b[0m\u001b[0;34m,\u001b[0m \u001b[0mshape\u001b[0m\u001b[0;34m,\u001b[0m \u001b[0mverify_shape\u001b[0m\u001b[0;34m)\u001b[0m\u001b[0;34m:\u001b[0m\u001b[0;34m\u001b[0m\u001b[0;34m\u001b[0m\u001b[0m\n\u001b[1;32m    299\u001b[0m   \u001b[0;34m\"\"\"Implementation of eager constant.\"\"\"\u001b[0m\u001b[0;34m\u001b[0m\u001b[0;34m\u001b[0m\u001b[0m\n\u001b[0;32m--> 300\u001b[0;31m   \u001b[0mt\u001b[0m \u001b[0;34m=\u001b[0m \u001b[0mconvert_to_eager_tensor\u001b[0m\u001b[0;34m(\u001b[0m\u001b[0mvalue\u001b[0m\u001b[0;34m,\u001b[0m \u001b[0mctx\u001b[0m\u001b[0;34m,\u001b[0m \u001b[0mdtype\u001b[0m\u001b[0;34m)\u001b[0m\u001b[0;34m\u001b[0m\u001b[0;34m\u001b[0m\u001b[0m\n\u001b[0m\u001b[1;32m    301\u001b[0m   \u001b[0;32mif\u001b[0m \u001b[0mshape\u001b[0m \u001b[0;32mis\u001b[0m \u001b[0;32mNone\u001b[0m\u001b[0;34m:\u001b[0m\u001b[0;34m\u001b[0m\u001b[0;34m\u001b[0m\u001b[0m\n\u001b[1;32m    302\u001b[0m     \u001b[0;32mreturn\u001b[0m \u001b[0mt\u001b[0m\u001b[0;34m\u001b[0m\u001b[0;34m\u001b[0m\u001b[0m\n",
      "\u001b[0;32m~/.pyenv/versions/3.8.5/envs/droughtwatch/lib/python3.8/site-packages/tensorflow/python/framework/constant_op.py\u001b[0m in \u001b[0;36mconvert_to_eager_tensor\u001b[0;34m(value, ctx, dtype)\u001b[0m\n\u001b[1;32m     96\u001b[0m       \u001b[0mdtype\u001b[0m \u001b[0;34m=\u001b[0m \u001b[0mdtypes\u001b[0m\u001b[0;34m.\u001b[0m\u001b[0mas_dtype\u001b[0m\u001b[0;34m(\u001b[0m\u001b[0mdtype\u001b[0m\u001b[0;34m)\u001b[0m\u001b[0;34m.\u001b[0m\u001b[0mas_datatype_enum\u001b[0m\u001b[0;34m\u001b[0m\u001b[0;34m\u001b[0m\u001b[0m\n\u001b[1;32m     97\u001b[0m   \u001b[0mctx\u001b[0m\u001b[0;34m.\u001b[0m\u001b[0mensure_initialized\u001b[0m\u001b[0;34m(\u001b[0m\u001b[0;34m)\u001b[0m\u001b[0;34m\u001b[0m\u001b[0;34m\u001b[0m\u001b[0m\n\u001b[0;32m---> 98\u001b[0;31m   \u001b[0;32mreturn\u001b[0m \u001b[0mops\u001b[0m\u001b[0;34m.\u001b[0m\u001b[0mEagerTensor\u001b[0m\u001b[0;34m(\u001b[0m\u001b[0mvalue\u001b[0m\u001b[0;34m,\u001b[0m \u001b[0mctx\u001b[0m\u001b[0;34m.\u001b[0m\u001b[0mdevice_name\u001b[0m\u001b[0;34m,\u001b[0m \u001b[0mdtype\u001b[0m\u001b[0;34m)\u001b[0m\u001b[0;34m\u001b[0m\u001b[0;34m\u001b[0m\u001b[0m\n\u001b[0m\u001b[1;32m     99\u001b[0m \u001b[0;34m\u001b[0m\u001b[0m\n\u001b[1;32m    100\u001b[0m \u001b[0;34m\u001b[0m\u001b[0m\n",
      "\u001b[0;31mValueError\u001b[0m: Attempt to convert a value (<_io.BufferedWriter name='testfile'>) with an unsupported type (<class '_io.BufferedWriter'>) to a Tensor."
     ]
    }
   ],
   "source": [
    "tf.convert_to_tensor(file_obj)"
   ]
  },
  {
   "cell_type": "code",
   "execution_count": 36,
   "metadata": {
    "ExecuteTime": {
     "end_time": "2020-12-03T09:21:16.565854Z",
     "start_time": "2020-12-03T09:21:16.559770Z"
    }
   },
   "outputs": [],
   "source": [
    "features = {\n",
    "  'B1': tf.io.FixedLenFeature([], tf.string),\n",
    "  'B2': tf.io.FixedLenFeature([], tf.string),\n",
    "  'B3': tf.io.FixedLenFeature([], tf.string),\n",
    "  'B4': tf.io.FixedLenFeature([], tf.string),\n",
    "  'B5': tf.io.FixedLenFeature([], tf.string),\n",
    "  'B6': tf.io.FixedLenFeature([], tf.string),\n",
    "  'B7': tf.io.FixedLenFeature([], tf.string),\n",
    "  'B8': tf.io.FixedLenFeature([], tf.string),\n",
    "  'B9': tf.io.FixedLenFeature([], tf.string),\n",
    "  'B10': tf.io.FixedLenFeature([], tf.string),\n",
    "  'B11': tf.io.FixedLenFeature([], tf.string),\n",
    "  'label': tf.io.FixedLenFeature([], tf.int64),\n",
    "}"
   ]
  },
  {
   "cell_type": "code",
   "execution_count": 41,
   "metadata": {
    "ExecuteTime": {
     "end_time": "2020-12-03T09:24:18.707388Z",
     "start_time": "2020-12-03T09:24:18.662853Z"
    },
    "scrolled": true
   },
   "outputs": [
    {
     "ename": "ValueError",
     "evalue": "Attempt to convert a value (<_io.BufferedWriter name='testfile'>) with an unsupported type (<class '_io.BufferedWriter'>) to a Tensor.",
     "output_type": "error",
     "traceback": [
      "\u001b[0;31m---------------------------------------------------------------------------\u001b[0m",
      "\u001b[0;31mValueError\u001b[0m                                Traceback (most recent call last)",
      "\u001b[0;32m<ipython-input-41-e339f871a4d6>\u001b[0m in \u001b[0;36m<module>\u001b[0;34m\u001b[0m\n\u001b[0;32m----> 1\u001b[0;31m \u001b[0mtf\u001b[0m\u001b[0;34m.\u001b[0m\u001b[0mio\u001b[0m\u001b[0;34m.\u001b[0m\u001b[0mparse_single_example\u001b[0m\u001b[0;34m(\u001b[0m\u001b[0mfile_obj\u001b[0m\u001b[0;34m,\u001b[0m\u001b[0mfeatures\u001b[0m\u001b[0;34m)\u001b[0m\u001b[0;34m\u001b[0m\u001b[0;34m\u001b[0m\u001b[0m\n\u001b[0m",
      "\u001b[0;32m~/.pyenv/versions/3.8.5/envs/droughtwatch/lib/python3.8/site-packages/tensorflow/python/util/dispatch.py\u001b[0m in \u001b[0;36mwrapper\u001b[0;34m(*args, **kwargs)\u001b[0m\n\u001b[1;32m    199\u001b[0m     \u001b[0;34m\"\"\"Call target, and fall back on dispatchers if there is a TypeError.\"\"\"\u001b[0m\u001b[0;34m\u001b[0m\u001b[0;34m\u001b[0m\u001b[0m\n\u001b[1;32m    200\u001b[0m     \u001b[0;32mtry\u001b[0m\u001b[0;34m:\u001b[0m\u001b[0;34m\u001b[0m\u001b[0;34m\u001b[0m\u001b[0m\n\u001b[0;32m--> 201\u001b[0;31m       \u001b[0;32mreturn\u001b[0m \u001b[0mtarget\u001b[0m\u001b[0;34m(\u001b[0m\u001b[0;34m*\u001b[0m\u001b[0margs\u001b[0m\u001b[0;34m,\u001b[0m \u001b[0;34m**\u001b[0m\u001b[0mkwargs\u001b[0m\u001b[0;34m)\u001b[0m\u001b[0;34m\u001b[0m\u001b[0;34m\u001b[0m\u001b[0m\n\u001b[0m\u001b[1;32m    202\u001b[0m     \u001b[0;32mexcept\u001b[0m \u001b[0;34m(\u001b[0m\u001b[0mTypeError\u001b[0m\u001b[0;34m,\u001b[0m \u001b[0mValueError\u001b[0m\u001b[0;34m)\u001b[0m\u001b[0;34m:\u001b[0m\u001b[0;34m\u001b[0m\u001b[0;34m\u001b[0m\u001b[0m\n\u001b[1;32m    203\u001b[0m       \u001b[0;31m# Note: convert_to_eager_tensor currently raises a ValueError, not a\u001b[0m\u001b[0;34m\u001b[0m\u001b[0;34m\u001b[0m\u001b[0;34m\u001b[0m\u001b[0m\n",
      "\u001b[0;32m~/.pyenv/versions/3.8.5/envs/droughtwatch/lib/python3.8/site-packages/tensorflow/python/ops/parsing_ops.py\u001b[0m in \u001b[0;36mparse_single_example\u001b[0;34m(serialized, features, name, example_names)\u001b[0m\n\u001b[1;32m    408\u001b[0m     \u001b[0mValueError\u001b[0m\u001b[0;34m:\u001b[0m \u001b[0;32mif\u001b[0m \u001b[0many\u001b[0m \u001b[0mfeature\u001b[0m \u001b[0;32mis\u001b[0m \u001b[0minvalid\u001b[0m\u001b[0;34m.\u001b[0m\u001b[0;34m\u001b[0m\u001b[0;34m\u001b[0m\u001b[0m\n\u001b[1;32m    409\u001b[0m   \"\"\"\n\u001b[0;32m--> 410\u001b[0;31m   \u001b[0;32mreturn\u001b[0m \u001b[0mparse_single_example_v2\u001b[0m\u001b[0;34m(\u001b[0m\u001b[0mserialized\u001b[0m\u001b[0;34m,\u001b[0m \u001b[0mfeatures\u001b[0m\u001b[0;34m,\u001b[0m \u001b[0mexample_names\u001b[0m\u001b[0;34m,\u001b[0m \u001b[0mname\u001b[0m\u001b[0;34m)\u001b[0m\u001b[0;34m\u001b[0m\u001b[0;34m\u001b[0m\u001b[0m\n\u001b[0m\u001b[1;32m    411\u001b[0m \u001b[0;34m\u001b[0m\u001b[0m\n\u001b[1;32m    412\u001b[0m \u001b[0;34m\u001b[0m\u001b[0m\n",
      "\u001b[0;32m~/.pyenv/versions/3.8.5/envs/droughtwatch/lib/python3.8/site-packages/tensorflow/python/util/dispatch.py\u001b[0m in \u001b[0;36mwrapper\u001b[0;34m(*args, **kwargs)\u001b[0m\n\u001b[1;32m    199\u001b[0m     \u001b[0;34m\"\"\"Call target, and fall back on dispatchers if there is a TypeError.\"\"\"\u001b[0m\u001b[0;34m\u001b[0m\u001b[0;34m\u001b[0m\u001b[0m\n\u001b[1;32m    200\u001b[0m     \u001b[0;32mtry\u001b[0m\u001b[0;34m:\u001b[0m\u001b[0;34m\u001b[0m\u001b[0;34m\u001b[0m\u001b[0m\n\u001b[0;32m--> 201\u001b[0;31m       \u001b[0;32mreturn\u001b[0m \u001b[0mtarget\u001b[0m\u001b[0;34m(\u001b[0m\u001b[0;34m*\u001b[0m\u001b[0margs\u001b[0m\u001b[0;34m,\u001b[0m \u001b[0;34m**\u001b[0m\u001b[0mkwargs\u001b[0m\u001b[0;34m)\u001b[0m\u001b[0;34m\u001b[0m\u001b[0;34m\u001b[0m\u001b[0m\n\u001b[0m\u001b[1;32m    202\u001b[0m     \u001b[0;32mexcept\u001b[0m \u001b[0;34m(\u001b[0m\u001b[0mTypeError\u001b[0m\u001b[0;34m,\u001b[0m \u001b[0mValueError\u001b[0m\u001b[0;34m)\u001b[0m\u001b[0;34m:\u001b[0m\u001b[0;34m\u001b[0m\u001b[0;34m\u001b[0m\u001b[0m\n\u001b[1;32m    203\u001b[0m       \u001b[0;31m# Note: convert_to_eager_tensor currently raises a ValueError, not a\u001b[0m\u001b[0;34m\u001b[0m\u001b[0;34m\u001b[0m\u001b[0;34m\u001b[0m\u001b[0m\n",
      "\u001b[0;32m~/.pyenv/versions/3.8.5/envs/droughtwatch/lib/python3.8/site-packages/tensorflow/python/ops/parsing_ops.py\u001b[0m in \u001b[0;36mparse_single_example_v2\u001b[0;34m(serialized, features, example_names, name)\u001b[0m\n\u001b[1;32m    448\u001b[0m     \u001b[0;32mraise\u001b[0m \u001b[0mValueError\u001b[0m\u001b[0;34m(\u001b[0m\u001b[0;34m\"Missing features.\"\u001b[0m\u001b[0;34m)\u001b[0m\u001b[0;34m\u001b[0m\u001b[0;34m\u001b[0m\u001b[0m\n\u001b[1;32m    449\u001b[0m   \u001b[0;32mwith\u001b[0m \u001b[0mops\u001b[0m\u001b[0;34m.\u001b[0m\u001b[0mname_scope\u001b[0m\u001b[0;34m(\u001b[0m\u001b[0mname\u001b[0m\u001b[0;34m,\u001b[0m \u001b[0;34m\"ParseSingleExample\"\u001b[0m\u001b[0;34m,\u001b[0m \u001b[0;34m[\u001b[0m\u001b[0mserialized\u001b[0m\u001b[0;34m,\u001b[0m \u001b[0mexample_names\u001b[0m\u001b[0;34m]\u001b[0m\u001b[0;34m)\u001b[0m\u001b[0;34m:\u001b[0m\u001b[0;34m\u001b[0m\u001b[0;34m\u001b[0m\u001b[0m\n\u001b[0;32m--> 450\u001b[0;31m     \u001b[0mserialized\u001b[0m \u001b[0;34m=\u001b[0m \u001b[0mops\u001b[0m\u001b[0;34m.\u001b[0m\u001b[0mconvert_to_tensor\u001b[0m\u001b[0;34m(\u001b[0m\u001b[0mserialized\u001b[0m\u001b[0;34m,\u001b[0m \u001b[0mname\u001b[0m\u001b[0;34m=\u001b[0m\u001b[0;34m\"serialized\"\u001b[0m\u001b[0;34m)\u001b[0m\u001b[0;34m\u001b[0m\u001b[0;34m\u001b[0m\u001b[0m\n\u001b[0m\u001b[1;32m    451\u001b[0m     \u001b[0mserialized\u001b[0m \u001b[0;34m=\u001b[0m \u001b[0m_assert_scalar\u001b[0m\u001b[0;34m(\u001b[0m\u001b[0mserialized\u001b[0m\u001b[0;34m,\u001b[0m \u001b[0;34m\"serialized\"\u001b[0m\u001b[0;34m)\u001b[0m\u001b[0;34m\u001b[0m\u001b[0;34m\u001b[0m\u001b[0m\n\u001b[1;32m    452\u001b[0m     \u001b[0;32mreturn\u001b[0m \u001b[0mparse_example_v2\u001b[0m\u001b[0;34m(\u001b[0m\u001b[0mserialized\u001b[0m\u001b[0;34m,\u001b[0m \u001b[0mfeatures\u001b[0m\u001b[0;34m,\u001b[0m \u001b[0mexample_names\u001b[0m\u001b[0;34m,\u001b[0m \u001b[0mname\u001b[0m\u001b[0;34m)\u001b[0m\u001b[0;34m\u001b[0m\u001b[0;34m\u001b[0m\u001b[0m\n",
      "\u001b[0;32m~/.pyenv/versions/3.8.5/envs/droughtwatch/lib/python3.8/site-packages/tensorflow/python/framework/ops.py\u001b[0m in \u001b[0;36mconvert_to_tensor\u001b[0;34m(value, dtype, name, as_ref, preferred_dtype, dtype_hint, ctx, accepted_result_types)\u001b[0m\n\u001b[1;32m   1497\u001b[0m \u001b[0;34m\u001b[0m\u001b[0m\n\u001b[1;32m   1498\u001b[0m     \u001b[0;32mif\u001b[0m \u001b[0mret\u001b[0m \u001b[0;32mis\u001b[0m \u001b[0;32mNone\u001b[0m\u001b[0;34m:\u001b[0m\u001b[0;34m\u001b[0m\u001b[0;34m\u001b[0m\u001b[0m\n\u001b[0;32m-> 1499\u001b[0;31m       \u001b[0mret\u001b[0m \u001b[0;34m=\u001b[0m \u001b[0mconversion_func\u001b[0m\u001b[0;34m(\u001b[0m\u001b[0mvalue\u001b[0m\u001b[0;34m,\u001b[0m \u001b[0mdtype\u001b[0m\u001b[0;34m=\u001b[0m\u001b[0mdtype\u001b[0m\u001b[0;34m,\u001b[0m \u001b[0mname\u001b[0m\u001b[0;34m=\u001b[0m\u001b[0mname\u001b[0m\u001b[0;34m,\u001b[0m \u001b[0mas_ref\u001b[0m\u001b[0;34m=\u001b[0m\u001b[0mas_ref\u001b[0m\u001b[0;34m)\u001b[0m\u001b[0;34m\u001b[0m\u001b[0;34m\u001b[0m\u001b[0m\n\u001b[0m\u001b[1;32m   1500\u001b[0m \u001b[0;34m\u001b[0m\u001b[0m\n\u001b[1;32m   1501\u001b[0m     \u001b[0;32mif\u001b[0m \u001b[0mret\u001b[0m \u001b[0;32mis\u001b[0m \u001b[0mNotImplemented\u001b[0m\u001b[0;34m:\u001b[0m\u001b[0;34m\u001b[0m\u001b[0;34m\u001b[0m\u001b[0m\n",
      "\u001b[0;32m~/.pyenv/versions/3.8.5/envs/droughtwatch/lib/python3.8/site-packages/tensorflow/python/framework/constant_op.py\u001b[0m in \u001b[0;36m_constant_tensor_conversion_function\u001b[0;34m(v, dtype, name, as_ref)\u001b[0m\n\u001b[1;32m    336\u001b[0m                                          as_ref=False):\n\u001b[1;32m    337\u001b[0m   \u001b[0m_\u001b[0m \u001b[0;34m=\u001b[0m \u001b[0mas_ref\u001b[0m\u001b[0;34m\u001b[0m\u001b[0;34m\u001b[0m\u001b[0m\n\u001b[0;32m--> 338\u001b[0;31m   \u001b[0;32mreturn\u001b[0m \u001b[0mconstant\u001b[0m\u001b[0;34m(\u001b[0m\u001b[0mv\u001b[0m\u001b[0;34m,\u001b[0m \u001b[0mdtype\u001b[0m\u001b[0;34m=\u001b[0m\u001b[0mdtype\u001b[0m\u001b[0;34m,\u001b[0m \u001b[0mname\u001b[0m\u001b[0;34m=\u001b[0m\u001b[0mname\u001b[0m\u001b[0;34m)\u001b[0m\u001b[0;34m\u001b[0m\u001b[0;34m\u001b[0m\u001b[0m\n\u001b[0m\u001b[1;32m    339\u001b[0m \u001b[0;34m\u001b[0m\u001b[0m\n\u001b[1;32m    340\u001b[0m \u001b[0;34m\u001b[0m\u001b[0m\n",
      "\u001b[0;32m~/.pyenv/versions/3.8.5/envs/droughtwatch/lib/python3.8/site-packages/tensorflow/python/framework/constant_op.py\u001b[0m in \u001b[0;36mconstant\u001b[0;34m(value, dtype, shape, name)\u001b[0m\n\u001b[1;32m    261\u001b[0m     \u001b[0mValueError\u001b[0m\u001b[0;34m:\u001b[0m \u001b[0;32mif\u001b[0m \u001b[0mcalled\u001b[0m \u001b[0mon\u001b[0m \u001b[0ma\u001b[0m \u001b[0msymbolic\u001b[0m \u001b[0mtensor\u001b[0m\u001b[0;34m.\u001b[0m\u001b[0;34m\u001b[0m\u001b[0;34m\u001b[0m\u001b[0m\n\u001b[1;32m    262\u001b[0m   \"\"\"\n\u001b[0;32m--> 263\u001b[0;31m   return _constant_impl(value, dtype, shape, name, verify_shape=False,\n\u001b[0m\u001b[1;32m    264\u001b[0m                         allow_broadcast=True)\n\u001b[1;32m    265\u001b[0m \u001b[0;34m\u001b[0m\u001b[0m\n",
      "\u001b[0;32m~/.pyenv/versions/3.8.5/envs/droughtwatch/lib/python3.8/site-packages/tensorflow/python/framework/constant_op.py\u001b[0m in \u001b[0;36m_constant_impl\u001b[0;34m(value, dtype, shape, name, verify_shape, allow_broadcast)\u001b[0m\n\u001b[1;32m    273\u001b[0m       \u001b[0;32mwith\u001b[0m \u001b[0mtrace\u001b[0m\u001b[0;34m.\u001b[0m\u001b[0mTrace\u001b[0m\u001b[0;34m(\u001b[0m\u001b[0;34m\"tf.constant\"\u001b[0m\u001b[0;34m)\u001b[0m\u001b[0;34m:\u001b[0m\u001b[0;34m\u001b[0m\u001b[0;34m\u001b[0m\u001b[0m\n\u001b[1;32m    274\u001b[0m         \u001b[0;32mreturn\u001b[0m \u001b[0m_constant_eager_impl\u001b[0m\u001b[0;34m(\u001b[0m\u001b[0mctx\u001b[0m\u001b[0;34m,\u001b[0m \u001b[0mvalue\u001b[0m\u001b[0;34m,\u001b[0m \u001b[0mdtype\u001b[0m\u001b[0;34m,\u001b[0m \u001b[0mshape\u001b[0m\u001b[0;34m,\u001b[0m \u001b[0mverify_shape\u001b[0m\u001b[0;34m)\u001b[0m\u001b[0;34m\u001b[0m\u001b[0;34m\u001b[0m\u001b[0m\n\u001b[0;32m--> 275\u001b[0;31m     \u001b[0;32mreturn\u001b[0m \u001b[0m_constant_eager_impl\u001b[0m\u001b[0;34m(\u001b[0m\u001b[0mctx\u001b[0m\u001b[0;34m,\u001b[0m \u001b[0mvalue\u001b[0m\u001b[0;34m,\u001b[0m \u001b[0mdtype\u001b[0m\u001b[0;34m,\u001b[0m \u001b[0mshape\u001b[0m\u001b[0;34m,\u001b[0m \u001b[0mverify_shape\u001b[0m\u001b[0;34m)\u001b[0m\u001b[0;34m\u001b[0m\u001b[0;34m\u001b[0m\u001b[0m\n\u001b[0m\u001b[1;32m    276\u001b[0m \u001b[0;34m\u001b[0m\u001b[0m\n\u001b[1;32m    277\u001b[0m   \u001b[0mg\u001b[0m \u001b[0;34m=\u001b[0m \u001b[0mops\u001b[0m\u001b[0;34m.\u001b[0m\u001b[0mget_default_graph\u001b[0m\u001b[0;34m(\u001b[0m\u001b[0;34m)\u001b[0m\u001b[0;34m\u001b[0m\u001b[0;34m\u001b[0m\u001b[0m\n",
      "\u001b[0;32m~/.pyenv/versions/3.8.5/envs/droughtwatch/lib/python3.8/site-packages/tensorflow/python/framework/constant_op.py\u001b[0m in \u001b[0;36m_constant_eager_impl\u001b[0;34m(ctx, value, dtype, shape, verify_shape)\u001b[0m\n\u001b[1;32m    298\u001b[0m \u001b[0;32mdef\u001b[0m \u001b[0m_constant_eager_impl\u001b[0m\u001b[0;34m(\u001b[0m\u001b[0mctx\u001b[0m\u001b[0;34m,\u001b[0m \u001b[0mvalue\u001b[0m\u001b[0;34m,\u001b[0m \u001b[0mdtype\u001b[0m\u001b[0;34m,\u001b[0m \u001b[0mshape\u001b[0m\u001b[0;34m,\u001b[0m \u001b[0mverify_shape\u001b[0m\u001b[0;34m)\u001b[0m\u001b[0;34m:\u001b[0m\u001b[0;34m\u001b[0m\u001b[0;34m\u001b[0m\u001b[0m\n\u001b[1;32m    299\u001b[0m   \u001b[0;34m\"\"\"Implementation of eager constant.\"\"\"\u001b[0m\u001b[0;34m\u001b[0m\u001b[0;34m\u001b[0m\u001b[0m\n\u001b[0;32m--> 300\u001b[0;31m   \u001b[0mt\u001b[0m \u001b[0;34m=\u001b[0m \u001b[0mconvert_to_eager_tensor\u001b[0m\u001b[0;34m(\u001b[0m\u001b[0mvalue\u001b[0m\u001b[0;34m,\u001b[0m \u001b[0mctx\u001b[0m\u001b[0;34m,\u001b[0m \u001b[0mdtype\u001b[0m\u001b[0;34m)\u001b[0m\u001b[0;34m\u001b[0m\u001b[0;34m\u001b[0m\u001b[0m\n\u001b[0m\u001b[1;32m    301\u001b[0m   \u001b[0;32mif\u001b[0m \u001b[0mshape\u001b[0m \u001b[0;32mis\u001b[0m \u001b[0;32mNone\u001b[0m\u001b[0;34m:\u001b[0m\u001b[0;34m\u001b[0m\u001b[0;34m\u001b[0m\u001b[0m\n\u001b[1;32m    302\u001b[0m     \u001b[0;32mreturn\u001b[0m \u001b[0mt\u001b[0m\u001b[0;34m\u001b[0m\u001b[0;34m\u001b[0m\u001b[0m\n",
      "\u001b[0;32m~/.pyenv/versions/3.8.5/envs/droughtwatch/lib/python3.8/site-packages/tensorflow/python/framework/constant_op.py\u001b[0m in \u001b[0;36mconvert_to_eager_tensor\u001b[0;34m(value, ctx, dtype)\u001b[0m\n\u001b[1;32m     96\u001b[0m       \u001b[0mdtype\u001b[0m \u001b[0;34m=\u001b[0m \u001b[0mdtypes\u001b[0m\u001b[0;34m.\u001b[0m\u001b[0mas_dtype\u001b[0m\u001b[0;34m(\u001b[0m\u001b[0mdtype\u001b[0m\u001b[0;34m)\u001b[0m\u001b[0;34m.\u001b[0m\u001b[0mas_datatype_enum\u001b[0m\u001b[0;34m\u001b[0m\u001b[0;34m\u001b[0m\u001b[0m\n\u001b[1;32m     97\u001b[0m   \u001b[0mctx\u001b[0m\u001b[0;34m.\u001b[0m\u001b[0mensure_initialized\u001b[0m\u001b[0;34m(\u001b[0m\u001b[0;34m)\u001b[0m\u001b[0;34m\u001b[0m\u001b[0;34m\u001b[0m\u001b[0m\n\u001b[0;32m---> 98\u001b[0;31m   \u001b[0;32mreturn\u001b[0m \u001b[0mops\u001b[0m\u001b[0;34m.\u001b[0m\u001b[0mEagerTensor\u001b[0m\u001b[0;34m(\u001b[0m\u001b[0mvalue\u001b[0m\u001b[0;34m,\u001b[0m \u001b[0mctx\u001b[0m\u001b[0;34m.\u001b[0m\u001b[0mdevice_name\u001b[0m\u001b[0;34m,\u001b[0m \u001b[0mdtype\u001b[0m\u001b[0;34m)\u001b[0m\u001b[0;34m\u001b[0m\u001b[0;34m\u001b[0m\u001b[0m\n\u001b[0m\u001b[1;32m     99\u001b[0m \u001b[0;34m\u001b[0m\u001b[0m\n\u001b[1;32m    100\u001b[0m \u001b[0;34m\u001b[0m\u001b[0m\n",
      "\u001b[0;31mValueError\u001b[0m: Attempt to convert a value (<_io.BufferedWriter name='testfile'>) with an unsupported type (<class '_io.BufferedWriter'>) to a Tensor."
     ]
    }
   ],
   "source": [
    "tf.io.parse_single_example(file_obj,features)"
   ]
  },
  {
   "cell_type": "code",
   "execution_count": 12,
   "metadata": {
    "ExecuteTime": {
     "end_time": "2020-12-03T13:37:38.766604Z",
     "start_time": "2020-12-03T13:37:38.753605Z"
    }
   },
   "outputs": [],
   "source": [
    "def load_data_gcp():\n",
    "    client = storage.Client()\n",
    "    bucket = client.get_bucket('tfrecords_data')\n",
    "    train = file_list_from_gcp(\"train\", bucket)\n",
    "    val = file_list_from_gcp(\"val\", bucket)\n",
    "    return train, val\n",
    "\n",
    "def file_list_from_gcp(folder, bucket):\n",
    "    filelist = []\n",
    "    client = storage.Client()\n",
    "    for filename in list(client.list_blobs(bucket)):\n",
    "      if str(filename).startswith(\"<Blob: tfrecords_data, data/\"+folder+'/part-'):\n",
    "        name = str(filename)\n",
    "        name = name[:-19]\n",
    "        name = name.replace('<Blob: tfrecords_data, ', '')\n",
    "        filelist.append(name)\n",
    "    file_obj_list = []\n",
    "    for items in filelist:\n",
    "      blob = bucket.get_blob(items) \n",
    "      blob = bucket.blob(items)\n",
    "      blobstring = blob.download_as_string()\n",
    "      with open(\"testfile\", \"wb\") as file_obj:\n",
    "          file_obj_list.append(blob.download_to_file(file_obj))\n",
    "    return file_obj_list\n",
    "\n",
    "\n",
    "def parse_tfrecords(filelist, batch_size, buffer_size, include_viz=False):\n",
    "# try a subset of possible bands\n",
    "    def _parse_(serialized_example, keylist=['B2', 'B3', 'B4', 'B5', 'B6', 'B7', 'B8']):\n",
    "        example = tf.io.parse_single_example(serialized_example, features)\n",
    "\n",
    "        def getband(example_key):\n",
    "            img = tf.io.decode_raw(example_key, tf.uint8)\n",
    "            return tf.reshape(img[:IMG_DIM**2], shape=(IMG_DIM, IMG_DIM, 1))\n",
    "\n",
    "        bandlist = [getband(example[key]) for key in keylist]\n",
    "        # combine bands into tensor\n",
    "        image = tf.concat(bandlist, -1)\n",
    "\n",
    "        # one-hot encode ground truth labels\n",
    "        label = tf.cast(example['label'], tf.int32)\n",
    "        label = tf.one_hot(label, NUM_CLASSES)\n",
    "\n",
    "        return {'image': image}, label\n",
    "\n",
    "    tfrecord_dataset = tf.data.TFRecordDataset(filelist)\n",
    "    tfrecord_dataset = tfrecord_dataset.map(lambda x:_parse_(x)).shuffle(buffer_size).repeat(-1).batch(batch_size)\n",
    "    tfrecord_iterator = tfrecord_dataset.make_one_shot_iterator()\n",
    "    image, label = tfrecord_iterator.get_next()\n",
    "    return image, label\n",
    "\n",
    "    #client = storage.Client()\n",
    "    train_tfrecords, val_tfrecords = load_data_gcp()\n",
    "    return train_tfrecords, val_tfrecords"
   ]
  },
  {
   "cell_type": "code",
   "execution_count": null,
   "metadata": {
    "ExecuteTime": {
     "start_time": "2020-12-03T13:37:39.331Z"
    }
   },
   "outputs": [],
   "source": [
    "train, val = load_data_gcp()"
   ]
  },
  {
   "cell_type": "code",
   "execution_count": null,
   "metadata": {},
   "outputs": [],
   "source": [
    "parse_tfrecords(filelist, 100, 100, include_viz=False)"
   ]
  },
  {
   "cell_type": "code",
   "execution_count": 3,
   "metadata": {
    "ExecuteTime": {
     "end_time": "2020-12-03T14:34:26.798764Z",
     "start_time": "2020-12-03T14:34:26.778665Z"
    }
   },
   "outputs": [],
   "source": [
    "client = storage.Client()"
   ]
  },
  {
   "cell_type": "code",
   "execution_count": 11,
   "metadata": {
    "ExecuteTime": {
     "end_time": "2020-12-03T14:41:40.054250Z",
     "start_time": "2020-12-03T14:41:39.083498Z"
    }
   },
   "outputs": [
    {
     "data": {
      "text/plain": [
       "[<Blob: tfrecords_data, data/train/part-r-00044, 1606760874449461>,\n",
       " <Blob: tfrecords_data, data/train/part-r-00045, 1606835516612750>,\n",
       " <Blob: tfrecords_data, data/train/part-r-00046, 1606801041262962>]"
      ]
     },
     "execution_count": 11,
     "metadata": {},
     "output_type": "execute_result"
    }
   ],
   "source": [
    "list(client.list_blobs(bucket))[50:53]"
   ]
  },
  {
   "cell_type": "code",
   "execution_count": 7,
   "metadata": {
    "ExecuteTime": {
     "end_time": "2020-12-03T14:36:53.758106Z",
     "start_time": "2020-12-03T14:36:53.577748Z"
    }
   },
   "outputs": [],
   "source": [
    "bucket = client.get_bucket('tfrecords_data')"
   ]
  },
  {
   "cell_type": "code",
   "execution_count": 12,
   "metadata": {
    "ExecuteTime": {
     "end_time": "2020-12-03T14:41:51.084078Z",
     "start_time": "2020-12-03T14:41:51.064795Z"
    }
   },
   "outputs": [],
   "source": [
    "def file_list_from_gcp(folder, bucket):\n",
    "    filelist = []\n",
    "    for filename in list(client.list_blobs(bucket))[50:53]:\n",
    "        if str(filename).startswith(\"<Blob: tfrecords_data, data/\"+folder+'/part-'):\n",
    "            name = str(filename)\n",
    "            name = name[:-19]\n",
    "            name = name.replace('<Blob: tfrecords_data, ', '')\n",
    "            filelist.append(name)\n",
    "    file_obj_list = []\n",
    "    for items in filelist:\n",
    "        blob = bucket.get_blob(items) \n",
    "        with open(items, \"wb\") as file_obj:\n",
    "            blob.download_to_file(file_obj)\n",
    "    return filelist"
   ]
  },
  {
   "cell_type": "code",
   "execution_count": 16,
   "metadata": {
    "ExecuteTime": {
     "end_time": "2020-12-03T14:44:49.298967Z",
     "start_time": "2020-12-03T14:43:37.870356Z"
    }
   },
   "outputs": [],
   "source": [
    "result = file_list_from_gcp('train', bucket)"
   ]
  },
  {
   "cell_type": "code",
   "execution_count": 17,
   "metadata": {
    "ExecuteTime": {
     "end_time": "2020-12-03T15:18:58.646283Z",
     "start_time": "2020-12-03T15:18:58.629046Z"
    }
   },
   "outputs": [
    {
     "data": {
      "text/plain": [
       "['data/train/part-r-00044',\n",
       " 'data/train/part-r-00045',\n",
       " 'data/train/part-r-00046']"
      ]
     },
     "execution_count": 17,
     "metadata": {},
     "output_type": "execute_result"
    }
   ],
   "source": [
    "result"
   ]
  },
  {
   "cell_type": "code",
   "execution_count": null,
   "metadata": {},
   "outputs": [],
   "source": []
  }
 ],
 "metadata": {
  "kernelspec": {
   "display_name": "Python 3",
   "language": "python",
   "name": "python3"
  },
  "language_info": {
   "codemirror_mode": {
    "name": "ipython",
    "version": 3
   },
   "file_extension": ".py",
   "mimetype": "text/x-python",
   "name": "python",
   "nbconvert_exporter": "python",
   "pygments_lexer": "ipython3",
   "version": "3.8.5"
  },
  "toc": {
   "base_numbering": 1,
   "nav_menu": {},
   "number_sections": true,
   "sideBar": true,
   "skip_h1_title": false,
   "title_cell": "Table of Contents",
   "title_sidebar": "Contents",
   "toc_cell": false,
   "toc_position": {},
   "toc_section_display": true,
   "toc_window_display": false
  },
  "varInspector": {
   "cols": {
    "lenName": 16,
    "lenType": 16,
    "lenVar": 40
   },
   "kernels_config": {
    "python": {
     "delete_cmd_postfix": "",
     "delete_cmd_prefix": "del ",
     "library": "var_list.py",
     "varRefreshCmd": "print(var_dic_list())"
    },
    "r": {
     "delete_cmd_postfix": ") ",
     "delete_cmd_prefix": "rm(",
     "library": "var_list.r",
     "varRefreshCmd": "cat(var_dic_list()) "
    }
   },
   "types_to_exclude": [
    "module",
    "function",
    "builtin_function_or_method",
    "instance",
    "_Feature"
   ],
   "window_display": false
  }
 },
 "nbformat": 4,
 "nbformat_minor": 4
}
